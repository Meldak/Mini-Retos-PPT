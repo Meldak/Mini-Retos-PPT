{
 "cells": [
  {
   "cell_type": "markdown",
   "metadata": {},
   "source": [
    "# Automating Portfolio Optimization and Allocation using Python\n",
    "\n",
    "Siguiendo el ejemplo del siguiente articulo:\n",
    "\n",
    "https://towardsdatascience.com/automating-portfolio-optimization-using-python-9f344b9380b9\n",
    "\n",
    "Requiere la libreria PyPortfolio:\n",
    "`pip install PyPortfolioOpt`"
   ]
  },
  {
   "cell_type": "markdown",
   "metadata": {},
   "source": [
    "## Importing Libraries"
   ]
  },
  {
   "cell_type": "code",
   "execution_count": 1,
   "metadata": {},
   "outputs": [
    {
     "name": "stderr",
     "output_type": "stream",
     "text": [
      "/home/ruben/miniconda3/envs/ml4t/lib/python3.7/site-packages/pandas_datareader/compat/__init__.py:7: FutureWarning: pandas.util.testing is deprecated. Use the functions in the public API at pandas.testing instead.\n",
      "  from pandas.util.testing import assert_frame_equal\n"
     ]
    }
   ],
   "source": [
    "#Importing all required libraries\n",
    "#Created by Sanket Karve\n",
    "import matplotlib.pyplot as plt\n",
    "import numpy as np\n",
    "import pandas as pd\n",
    "import pandas_datareader as web\n",
    "from matplotlib.ticker import FuncFormatter"
   ]
  },
  {
   "cell_type": "markdown",
   "metadata": {},
   "source": [
    "### -----> FIX: Comment and add lines"
   ]
  },
  {
   "cell_type": "code",
   "execution_count": 2,
   "metadata": {},
   "outputs": [],
   "source": [
    "from pypfopt.efficient_frontier import EfficientFrontier\n",
    "from pypfopt import risk_models\n",
    "from pypfopt import expected_returns\n",
    "from pypfopt.cla import CLA\n",
    "#from pypfopt.plotting import Plotting # FIX: Comment this line\n",
    "from pypfopt.discrete_allocation import DiscreteAllocation, get_latest_prices # FIX: Add this line\n",
    "from matplotlib.ticker import FuncFormatter"
   ]
  },
  {
   "cell_type": "markdown",
   "metadata": {},
   "source": [
    "## Scrapping Stock and Financial Data from the Web"
   ]
  },
  {
   "cell_type": "code",
   "execution_count": 3,
   "metadata": {},
   "outputs": [
    {
     "data": {
      "text/html": [
       "<div>\n",
       "<style scoped>\n",
       "    .dataframe tbody tr th:only-of-type {\n",
       "        vertical-align: middle;\n",
       "    }\n",
       "\n",
       "    .dataframe tbody tr th {\n",
       "        vertical-align: top;\n",
       "    }\n",
       "\n",
       "    .dataframe thead th {\n",
       "        text-align: right;\n",
       "    }\n",
       "</style>\n",
       "<table border=\"1\" class=\"dataframe\">\n",
       "  <thead>\n",
       "    <tr style=\"text-align: right;\">\n",
       "      <th></th>\n",
       "      <th>BSX</th>\n",
       "      <th>AES</th>\n",
       "      <th>BRK-B</th>\n",
       "      <th>SEE</th>\n",
       "      <th>QQQ</th>\n",
       "      <th>SPY</th>\n",
       "    </tr>\n",
       "    <tr>\n",
       "      <th>Date</th>\n",
       "      <th></th>\n",
       "      <th></th>\n",
       "      <th></th>\n",
       "      <th></th>\n",
       "      <th></th>\n",
       "      <th></th>\n",
       "    </tr>\n",
       "  </thead>\n",
       "  <tbody>\n",
       "    <tr>\n",
       "      <th>2015-01-02</th>\n",
       "      <td>13.22</td>\n",
       "      <td>10.845045</td>\n",
       "      <td>149.169998</td>\n",
       "      <td>39.287323</td>\n",
       "      <td>97.849831</td>\n",
       "      <td>183.525574</td>\n",
       "    </tr>\n",
       "    <tr>\n",
       "      <th>2015-01-05</th>\n",
       "      <td>13.81</td>\n",
       "      <td>10.536319</td>\n",
       "      <td>147.000000</td>\n",
       "      <td>38.726086</td>\n",
       "      <td>96.414497</td>\n",
       "      <td>180.211166</td>\n",
       "    </tr>\n",
       "    <tr>\n",
       "      <th>2015-01-06</th>\n",
       "      <td>13.70</td>\n",
       "      <td>10.298836</td>\n",
       "      <td>146.839996</td>\n",
       "      <td>38.928490</td>\n",
       "      <td>95.121742</td>\n",
       "      <td>178.513748</td>\n",
       "    </tr>\n",
       "    <tr>\n",
       "      <th>2015-01-07</th>\n",
       "      <td>14.03</td>\n",
       "      <td>10.314667</td>\n",
       "      <td>148.880005</td>\n",
       "      <td>38.983704</td>\n",
       "      <td>96.347977</td>\n",
       "      <td>180.738266</td>\n",
       "    </tr>\n",
       "    <tr>\n",
       "      <th>2015-01-08</th>\n",
       "      <td>14.59</td>\n",
       "      <td>10.472986</td>\n",
       "      <td>151.369995</td>\n",
       "      <td>39.701363</td>\n",
       "      <td>98.192047</td>\n",
       "      <td>183.945465</td>\n",
       "    </tr>\n",
       "  </tbody>\n",
       "</table>\n",
       "</div>"
      ],
      "text/plain": [
       "              BSX        AES       BRK-B        SEE        QQQ         SPY\n",
       "Date                                                                      \n",
       "2015-01-02  13.22  10.845045  149.169998  39.287323  97.849831  183.525574\n",
       "2015-01-05  13.81  10.536319  147.000000  38.726086  96.414497  180.211166\n",
       "2015-01-06  13.70  10.298836  146.839996  38.928490  95.121742  178.513748\n",
       "2015-01-07  14.03  10.314667  148.880005  38.983704  96.347977  180.738266\n",
       "2015-01-08  14.59  10.472986  151.369995  39.701363  98.192047  183.945465"
      ]
     },
     "execution_count": 3,
     "metadata": {},
     "output_type": "execute_result"
    }
   ],
   "source": [
    "tickers = ['BSX','AES','BRK-B','SEE','QQQ','SPY']\n",
    "thelen = len(tickers)\n",
    "price_data = []\n",
    "for ticker in range(thelen):\n",
    "    prices = web.DataReader(tickers[ticker], start='2015-01-01', end = '2020-06-06', data_source='yahoo')\n",
    "    price_data.append(prices.assign(ticker=ticker)[['Adj Close']])\n",
    "    df_stocks = pd.concat(price_data, axis=1)\n",
    "\n",
    "df_stocks.columns=tickers\n",
    "df_stocks.head()\n"
   ]
  },
  {
   "cell_type": "code",
   "execution_count": 4,
   "metadata": {},
   "outputs": [
    {
     "name": "stdout",
     "output_type": "stream",
     "text": [
      "BSX      0\n",
      "AES      0\n",
      "BRK-B    0\n",
      "SEE      0\n",
      "QQQ      0\n",
      "SPY      0\n",
      "dtype: int64\n"
     ]
    }
   ],
   "source": [
    "#Checking if any NaN values in the data\n",
    "nullin_df = pd.DataFrame(df_stocks,columns=tickers)\n",
    "print(nullin_df.isnull().sum())"
   ]
  },
  {
   "cell_type": "code",
   "execution_count": 5,
   "metadata": {},
   "outputs": [],
   "source": [
    "#Annualized Return\n",
    "mu = expected_returns.mean_historical_return(df_stocks)\n",
    "#Sample Variance of Portfolio\n",
    "Sigma = risk_models.sample_cov(df_stocks)"
   ]
  },
  {
   "cell_type": "code",
   "execution_count": 6,
   "metadata": {},
   "outputs": [
    {
     "name": "stdout",
     "output_type": "stream",
     "text": [
      "OrderedDict([('BSX', 0.82826), ('AES', -0.12836), ('BRK-B', -0.87341), ('SEE', -0.47497), ('QQQ', 1.0), ('SPY', 0.64848)])\n"
     ]
    }
   ],
   "source": [
    "#Max Sharpe Ratio - Tangent to the EF\n",
    "ef = EfficientFrontier(mu, Sigma, weight_bounds=(-1,1)) #weight bounds in negative allows shorting of stocks\n",
    "sharpe_pfolio=ef.max_sharpe() #May use add objective to ensure minimum zero weighting to individual stocks\n",
    "sharpe_pwt=ef.clean_weights()\n",
    "print(sharpe_pwt)"
   ]
  },
  {
   "cell_type": "markdown",
   "metadata": {},
   "source": [
    "### ------> FIX: Replace minvol_pwt by sharpe_pwt "
   ]
  },
  {
   "cell_type": "code",
   "execution_count": 7,
   "metadata": {},
   "outputs": [
    {
     "name": "stdout",
     "output_type": "stream",
     "text": [
      "{'BSX': 87, 'QQQ': 17, 'SPY': 8, 'AES': -17, 'BRK-B': -9, 'SEE': -27}\n",
      "Leftover Fund value in$ after building minimum volatility portfolio is $30.94\n"
     ]
    }
   ],
   "source": [
    "latest_prices = get_latest_prices(df_stocks)\n",
    "# Allocate Portfolio Value in $ as required to show number of shares/stocks to buy, also bounds for shorting will affect allocation\n",
    "#Min Volatility Portfolio Allocation $10000\n",
    "allocation_minv, rem_minv = DiscreteAllocation(sharpe_pwt, latest_prices, total_portfolio_value=10000).lp_portfolio()\n",
    "print(allocation_minv)\n",
    "print(\"Leftover Fund value in$ after building minimum volatility portfolio is ${:.2f}\".format(rem_minv))"
   ]
  },
  {
   "cell_type": "code",
   "execution_count": null,
   "metadata": {},
   "outputs": [],
   "source": []
  }
 ],
 "metadata": {
  "kernelspec": {
   "display_name": "Python 3",
   "language": "python",
   "name": "python3"
  },
  "language_info": {
   "codemirror_mode": {
    "name": "ipython",
    "version": 3
   },
   "file_extension": ".py",
   "mimetype": "text/x-python",
   "name": "python",
   "nbconvert_exporter": "python",
   "pygments_lexer": "ipython3",
   "version": "3.7.7"
  },
  "toc": {
   "base_numbering": 1,
   "nav_menu": {},
   "number_sections": false,
   "sideBar": true,
   "skip_h1_title": true,
   "title_cell": "Table of Contents",
   "title_sidebar": "Contents",
   "toc_cell": false,
   "toc_position": {},
   "toc_section_display": true,
   "toc_window_display": true
  }
 },
 "nbformat": 4,
 "nbformat_minor": 4
}
