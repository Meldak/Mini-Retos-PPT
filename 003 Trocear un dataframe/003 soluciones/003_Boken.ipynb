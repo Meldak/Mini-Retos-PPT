{
 "cells": [
  {
   "cell_type": "markdown",
   "metadata": {},
   "source": [
    "# Mini Reto 003 del grupo Python para Trading\n",
    "\n",
    "## Guardar un dataframe por trozos en varios ficheros excel\n"
   ]
  },
  {
   "cell_type": "markdown",
   "metadata": {},
   "source": [
    "Partimos del dataframe `data` que se obtiene con el código recogido más abajo, que tiene más de 23.000 lineas.\n",
    "\n",
    "El reto consiste en conseguir **trocearlo** en varios dataframe de **2.000 lineas como máximo** y guardar cada trozo en un **archivo excel**, con un nombre que **identifique el periodo de fechas** que contiene cada fichero.\n",
    "\n",
    "### Esos si, ¡ usando **una sola linea de código** !"
   ]
  },
  {
   "cell_type": "code",
   "execution_count": 1,
   "metadata": {
    "ExecuteTime": {
     "end_time": "2020-10-09T14:42:38.669353Z",
     "start_time": "2020-10-09T14:42:37.389599Z"
    }
   },
   "outputs": [
    {
     "name": "stdout",
     "output_type": "stream",
     "text": [
      "[*********************100%***********************]  1 of 1 completed\n"
     ]
    },
    {
     "data": {
      "text/html": [
       "<div>\n",
       "<style scoped>\n",
       "    .dataframe tbody tr th:only-of-type {\n",
       "        vertical-align: middle;\n",
       "    }\n",
       "\n",
       "    .dataframe tbody tr th {\n",
       "        vertical-align: top;\n",
       "    }\n",
       "\n",
       "    .dataframe thead th {\n",
       "        text-align: right;\n",
       "    }\n",
       "</style>\n",
       "<table border=\"1\" class=\"dataframe\">\n",
       "  <thead>\n",
       "    <tr style=\"text-align: right;\">\n",
       "      <th></th>\n",
       "      <th>Open</th>\n",
       "      <th>High</th>\n",
       "      <th>Low</th>\n",
       "      <th>Close</th>\n",
       "      <th>Adj Close</th>\n",
       "      <th>Volume</th>\n",
       "    </tr>\n",
       "    <tr>\n",
       "      <th>Date</th>\n",
       "      <th></th>\n",
       "      <th></th>\n",
       "      <th></th>\n",
       "      <th></th>\n",
       "      <th></th>\n",
       "      <th></th>\n",
       "    </tr>\n",
       "  </thead>\n",
       "  <tbody>\n",
       "    <tr>\n",
       "      <th>1927-12-30</th>\n",
       "      <td>17.660000</td>\n",
       "      <td>17.660000</td>\n",
       "      <td>17.660000</td>\n",
       "      <td>17.660000</td>\n",
       "      <td>17.660000</td>\n",
       "      <td>0</td>\n",
       "    </tr>\n",
       "    <tr>\n",
       "      <th>1928-01-03</th>\n",
       "      <td>17.760000</td>\n",
       "      <td>17.760000</td>\n",
       "      <td>17.760000</td>\n",
       "      <td>17.760000</td>\n",
       "      <td>17.760000</td>\n",
       "      <td>0</td>\n",
       "    </tr>\n",
       "    <tr>\n",
       "      <th>1928-01-04</th>\n",
       "      <td>17.719999</td>\n",
       "      <td>17.719999</td>\n",
       "      <td>17.719999</td>\n",
       "      <td>17.719999</td>\n",
       "      <td>17.719999</td>\n",
       "      <td>0</td>\n",
       "    </tr>\n",
       "    <tr>\n",
       "      <th>1928-01-05</th>\n",
       "      <td>17.549999</td>\n",
       "      <td>17.549999</td>\n",
       "      <td>17.549999</td>\n",
       "      <td>17.549999</td>\n",
       "      <td>17.549999</td>\n",
       "      <td>0</td>\n",
       "    </tr>\n",
       "    <tr>\n",
       "      <th>1928-01-06</th>\n",
       "      <td>17.660000</td>\n",
       "      <td>17.660000</td>\n",
       "      <td>17.660000</td>\n",
       "      <td>17.660000</td>\n",
       "      <td>17.660000</td>\n",
       "      <td>0</td>\n",
       "    </tr>\n",
       "    <tr>\n",
       "      <th>...</th>\n",
       "      <td>...</td>\n",
       "      <td>...</td>\n",
       "      <td>...</td>\n",
       "      <td>...</td>\n",
       "      <td>...</td>\n",
       "      <td>...</td>\n",
       "    </tr>\n",
       "    <tr>\n",
       "      <th>2020-10-07</th>\n",
       "      <td>3384.560059</td>\n",
       "      <td>3426.260010</td>\n",
       "      <td>3384.560059</td>\n",
       "      <td>3419.439941</td>\n",
       "      <td>3419.439941</td>\n",
       "      <td>3807830000</td>\n",
       "    </tr>\n",
       "    <tr>\n",
       "      <th>2020-10-08</th>\n",
       "      <td>3434.280029</td>\n",
       "      <td>3447.280029</td>\n",
       "      <td>3428.149902</td>\n",
       "      <td>3446.830078</td>\n",
       "      <td>3446.830078</td>\n",
       "      <td>3856190000</td>\n",
       "    </tr>\n",
       "    <tr>\n",
       "      <th>2020-10-09</th>\n",
       "      <td>3459.669922</td>\n",
       "      <td>3482.340088</td>\n",
       "      <td>3458.070068</td>\n",
       "      <td>3477.139893</td>\n",
       "      <td>3477.139893</td>\n",
       "      <td>3939060000</td>\n",
       "    </tr>\n",
       "    <tr>\n",
       "      <th>2020-10-12</th>\n",
       "      <td>3500.020020</td>\n",
       "      <td>3549.850098</td>\n",
       "      <td>3499.610107</td>\n",
       "      <td>3534.219971</td>\n",
       "      <td>3534.219971</td>\n",
       "      <td>3428970000</td>\n",
       "    </tr>\n",
       "    <tr>\n",
       "      <th>2020-10-13</th>\n",
       "      <td>3534.010010</td>\n",
       "      <td>3534.010010</td>\n",
       "      <td>3500.860107</td>\n",
       "      <td>3511.929932</td>\n",
       "      <td>3511.929932</td>\n",
       "      <td>3605150000</td>\n",
       "    </tr>\n",
       "  </tbody>\n",
       "</table>\n",
       "<p>23307 rows × 6 columns</p>\n",
       "</div>"
      ],
      "text/plain": [
       "                   Open         High          Low        Close    Adj Close  \\\n",
       "Date                                                                          \n",
       "1927-12-30    17.660000    17.660000    17.660000    17.660000    17.660000   \n",
       "1928-01-03    17.760000    17.760000    17.760000    17.760000    17.760000   \n",
       "1928-01-04    17.719999    17.719999    17.719999    17.719999    17.719999   \n",
       "1928-01-05    17.549999    17.549999    17.549999    17.549999    17.549999   \n",
       "1928-01-06    17.660000    17.660000    17.660000    17.660000    17.660000   \n",
       "...                 ...          ...          ...          ...          ...   \n",
       "2020-10-07  3384.560059  3426.260010  3384.560059  3419.439941  3419.439941   \n",
       "2020-10-08  3434.280029  3447.280029  3428.149902  3446.830078  3446.830078   \n",
       "2020-10-09  3459.669922  3482.340088  3458.070068  3477.139893  3477.139893   \n",
       "2020-10-12  3500.020020  3549.850098  3499.610107  3534.219971  3534.219971   \n",
       "2020-10-13  3534.010010  3534.010010  3500.860107  3511.929932  3511.929932   \n",
       "\n",
       "                Volume  \n",
       "Date                    \n",
       "1927-12-30           0  \n",
       "1928-01-03           0  \n",
       "1928-01-04           0  \n",
       "1928-01-05           0  \n",
       "1928-01-06           0  \n",
       "...                ...  \n",
       "2020-10-07  3807830000  \n",
       "2020-10-08  3856190000  \n",
       "2020-10-09  3939060000  \n",
       "2020-10-12  3428970000  \n",
       "2020-10-13  3605150000  \n",
       "\n",
       "[23307 rows x 6 columns]"
      ]
     },
     "execution_count": 1,
     "metadata": {},
     "output_type": "execute_result"
    }
   ],
   "source": [
    "import yfinance as yf\n",
    "\n",
    "data = yf.download(\"^GSPC\")\n",
    "data"
   ]
  },
  {
   "cell_type": "markdown",
   "metadata": {},
   "source": [
    "## Solución propuesta."
   ]
  },
  {
   "cell_type": "code",
   "execution_count": 2,
   "metadata": {},
   "outputs": [],
   "source": [
    "import pandas as pd\n",
    "import numpy as np\n",
    "import os"
   ]
  },
  {
   "cell_type": "markdown",
   "metadata": {},
   "source": [
    "Creamos la carpeta que contendrá los ficheros de salida y fijamos el número rows por fichero"
   ]
  },
  {
   "cell_type": "code",
   "execution_count": 3,
   "metadata": {},
   "outputs": [],
   "source": [
    "os.mkdir('output')\n",
    "rows = 2000"
   ]
  },
  {
   "cell_type": "code",
   "execution_count": 4,
   "metadata": {},
   "outputs": [
    {
     "data": {
      "text/plain": [
       "[None, None, None, None, None, None, None, None, None, None, None, None]"
      ]
     },
     "execution_count": 4,
     "metadata": {},
     "output_type": "execute_result"
    }
   ],
   "source": [
    "[d.to_excel('output/file_%s.xlsx'%str(d.index[-1]).split(' ')[0]) for d in np.split(data, range(0,len(data),rows), axis=0)[1:rows]]"
   ]
  },
  {
   "cell_type": "code",
   "execution_count": 5,
   "metadata": {},
   "outputs": [
    {
     "data": {
      "text/plain": [
       "['file_1936-01-09.xlsx',\n",
       " 'file_1944-01-04.xlsx',\n",
       " 'file_1952-01-09.xlsx',\n",
       " 'file_1959-12-21.xlsx',\n",
       " 'file_1967-11-30.xlsx',\n",
       " 'file_1975-12-12.xlsx',\n",
       " 'file_1983-11-10.xlsx',\n",
       " 'file_1991-10-10.xlsx',\n",
       " 'file_1999-09-10.xlsx',\n",
       " 'file_2007-08-24.xlsx',\n",
       " 'file_2015-08-05.xlsx',\n",
       " 'file_2020-10-13.xlsx']"
      ]
     },
     "execution_count": 5,
     "metadata": {},
     "output_type": "execute_result"
    }
   ],
   "source": [
    "sorted(os.listdir('output'))"
   ]
  },
  {
   "cell_type": "code",
   "execution_count": 6,
   "metadata": {},
   "outputs": [
    {
     "data": {
      "text/plain": [
       "0"
      ]
     },
     "execution_count": 6,
     "metadata": {},
     "output_type": "execute_result"
    }
   ],
   "source": [
    "os.system('rm -rf output')"
   ]
  },
  {
   "cell_type": "markdown",
   "metadata": {},
   "source": [
    "## Explicamos cada paso\n",
    "\n",
    "Vamos a crear un dataframe mas pequeño para entender mejor los pasos"
   ]
  },
  {
   "cell_type": "code",
   "execution_count": 7,
   "metadata": {},
   "outputs": [
    {
     "data": {
      "text/html": [
       "<div>\n",
       "<style scoped>\n",
       "    .dataframe tbody tr th:only-of-type {\n",
       "        vertical-align: middle;\n",
       "    }\n",
       "\n",
       "    .dataframe tbody tr th {\n",
       "        vertical-align: top;\n",
       "    }\n",
       "\n",
       "    .dataframe thead th {\n",
       "        text-align: right;\n",
       "    }\n",
       "</style>\n",
       "<table border=\"1\" class=\"dataframe\">\n",
       "  <thead>\n",
       "    <tr style=\"text-align: right;\">\n",
       "      <th></th>\n",
       "      <th>a</th>\n",
       "      <th>b</th>\n",
       "      <th>c</th>\n",
       "      <th>d</th>\n",
       "      <th>e</th>\n",
       "      <th>f</th>\n",
       "    </tr>\n",
       "  </thead>\n",
       "  <tbody>\n",
       "    <tr>\n",
       "      <th>0</th>\n",
       "      <td>0.589948</td>\n",
       "      <td>0.460775</td>\n",
       "      <td>0.381636</td>\n",
       "      <td>0.734224</td>\n",
       "      <td>0.430491</td>\n",
       "      <td>0.813828</td>\n",
       "    </tr>\n",
       "    <tr>\n",
       "      <th>1</th>\n",
       "      <td>0.412360</td>\n",
       "      <td>0.954703</td>\n",
       "      <td>0.901119</td>\n",
       "      <td>0.838794</td>\n",
       "      <td>0.701926</td>\n",
       "      <td>0.919696</td>\n",
       "    </tr>\n",
       "    <tr>\n",
       "      <th>2</th>\n",
       "      <td>0.053710</td>\n",
       "      <td>0.292131</td>\n",
       "      <td>0.095166</td>\n",
       "      <td>0.300081</td>\n",
       "      <td>0.191135</td>\n",
       "      <td>0.367199</td>\n",
       "    </tr>\n",
       "    <tr>\n",
       "      <th>3</th>\n",
       "      <td>0.844239</td>\n",
       "      <td>0.903555</td>\n",
       "      <td>0.552149</td>\n",
       "      <td>0.234901</td>\n",
       "      <td>0.755134</td>\n",
       "      <td>0.672232</td>\n",
       "    </tr>\n",
       "    <tr>\n",
       "      <th>4</th>\n",
       "      <td>0.003051</td>\n",
       "      <td>0.099680</td>\n",
       "      <td>0.846428</td>\n",
       "      <td>0.318876</td>\n",
       "      <td>0.874966</td>\n",
       "      <td>0.595613</td>\n",
       "    </tr>\n",
       "    <tr>\n",
       "      <th>5</th>\n",
       "      <td>0.711139</td>\n",
       "      <td>0.794857</td>\n",
       "      <td>0.693231</td>\n",
       "      <td>0.846337</td>\n",
       "      <td>0.876457</td>\n",
       "      <td>0.483218</td>\n",
       "    </tr>\n",
       "    <tr>\n",
       "      <th>6</th>\n",
       "      <td>0.853200</td>\n",
       "      <td>0.869299</td>\n",
       "      <td>0.141882</td>\n",
       "      <td>0.139633</td>\n",
       "      <td>0.219479</td>\n",
       "      <td>0.896984</td>\n",
       "    </tr>\n",
       "    <tr>\n",
       "      <th>7</th>\n",
       "      <td>0.034835</td>\n",
       "      <td>0.111387</td>\n",
       "      <td>0.574497</td>\n",
       "      <td>0.561105</td>\n",
       "      <td>0.156729</td>\n",
       "      <td>0.684751</td>\n",
       "    </tr>\n",
       "    <tr>\n",
       "      <th>8</th>\n",
       "      <td>0.310979</td>\n",
       "      <td>0.909930</td>\n",
       "      <td>0.609327</td>\n",
       "      <td>0.967931</td>\n",
       "      <td>0.768299</td>\n",
       "      <td>0.594631</td>\n",
       "    </tr>\n",
       "    <tr>\n",
       "      <th>9</th>\n",
       "      <td>0.711545</td>\n",
       "      <td>0.305043</td>\n",
       "      <td>0.075207</td>\n",
       "      <td>0.123764</td>\n",
       "      <td>0.047524</td>\n",
       "      <td>0.167965</td>\n",
       "    </tr>\n",
       "    <tr>\n",
       "      <th>10</th>\n",
       "      <td>0.773761</td>\n",
       "      <td>0.037396</td>\n",
       "      <td>0.496910</td>\n",
       "      <td>0.844923</td>\n",
       "      <td>0.347703</td>\n",
       "      <td>0.502734</td>\n",
       "    </tr>\n",
       "    <tr>\n",
       "      <th>11</th>\n",
       "      <td>0.404959</td>\n",
       "      <td>0.830559</td>\n",
       "      <td>0.245349</td>\n",
       "      <td>0.285886</td>\n",
       "      <td>0.119097</td>\n",
       "      <td>0.663866</td>\n",
       "    </tr>\n",
       "    <tr>\n",
       "      <th>12</th>\n",
       "      <td>0.517999</td>\n",
       "      <td>0.524753</td>\n",
       "      <td>0.227373</td>\n",
       "      <td>0.387764</td>\n",
       "      <td>0.837835</td>\n",
       "      <td>0.035664</td>\n",
       "    </tr>\n",
       "    <tr>\n",
       "      <th>13</th>\n",
       "      <td>0.668922</td>\n",
       "      <td>0.727692</td>\n",
       "      <td>0.232979</td>\n",
       "      <td>0.960197</td>\n",
       "      <td>0.297035</td>\n",
       "      <td>0.138463</td>\n",
       "    </tr>\n",
       "    <tr>\n",
       "      <th>14</th>\n",
       "      <td>0.950052</td>\n",
       "      <td>0.321830</td>\n",
       "      <td>0.083987</td>\n",
       "      <td>0.113036</td>\n",
       "      <td>0.014197</td>\n",
       "      <td>0.711392</td>\n",
       "    </tr>\n",
       "    <tr>\n",
       "      <th>15</th>\n",
       "      <td>0.437533</td>\n",
       "      <td>0.719672</td>\n",
       "      <td>0.671081</td>\n",
       "      <td>0.213173</td>\n",
       "      <td>0.401768</td>\n",
       "      <td>0.078978</td>\n",
       "    </tr>\n",
       "    <tr>\n",
       "      <th>16</th>\n",
       "      <td>0.176899</td>\n",
       "      <td>0.075570</td>\n",
       "      <td>0.438935</td>\n",
       "      <td>0.780186</td>\n",
       "      <td>0.517648</td>\n",
       "      <td>0.336977</td>\n",
       "    </tr>\n",
       "    <tr>\n",
       "      <th>17</th>\n",
       "      <td>0.609510</td>\n",
       "      <td>0.646071</td>\n",
       "      <td>0.960066</td>\n",
       "      <td>0.968345</td>\n",
       "      <td>0.180291</td>\n",
       "      <td>0.569980</td>\n",
       "    </tr>\n",
       "    <tr>\n",
       "      <th>18</th>\n",
       "      <td>0.518640</td>\n",
       "      <td>0.262213</td>\n",
       "      <td>0.866991</td>\n",
       "      <td>0.090951</td>\n",
       "      <td>0.893508</td>\n",
       "      <td>0.122355</td>\n",
       "    </tr>\n",
       "    <tr>\n",
       "      <th>19</th>\n",
       "      <td>0.823103</td>\n",
       "      <td>0.723086</td>\n",
       "      <td>0.287773</td>\n",
       "      <td>0.457337</td>\n",
       "      <td>0.502900</td>\n",
       "      <td>0.806555</td>\n",
       "    </tr>\n",
       "  </tbody>\n",
       "</table>\n",
       "</div>"
      ],
      "text/plain": [
       "           a         b         c         d         e         f\n",
       "0   0.589948  0.460775  0.381636  0.734224  0.430491  0.813828\n",
       "1   0.412360  0.954703  0.901119  0.838794  0.701926  0.919696\n",
       "2   0.053710  0.292131  0.095166  0.300081  0.191135  0.367199\n",
       "3   0.844239  0.903555  0.552149  0.234901  0.755134  0.672232\n",
       "4   0.003051  0.099680  0.846428  0.318876  0.874966  0.595613\n",
       "5   0.711139  0.794857  0.693231  0.846337  0.876457  0.483218\n",
       "6   0.853200  0.869299  0.141882  0.139633  0.219479  0.896984\n",
       "7   0.034835  0.111387  0.574497  0.561105  0.156729  0.684751\n",
       "8   0.310979  0.909930  0.609327  0.967931  0.768299  0.594631\n",
       "9   0.711545  0.305043  0.075207  0.123764  0.047524  0.167965\n",
       "10  0.773761  0.037396  0.496910  0.844923  0.347703  0.502734\n",
       "11  0.404959  0.830559  0.245349  0.285886  0.119097  0.663866\n",
       "12  0.517999  0.524753  0.227373  0.387764  0.837835  0.035664\n",
       "13  0.668922  0.727692  0.232979  0.960197  0.297035  0.138463\n",
       "14  0.950052  0.321830  0.083987  0.113036  0.014197  0.711392\n",
       "15  0.437533  0.719672  0.671081  0.213173  0.401768  0.078978\n",
       "16  0.176899  0.075570  0.438935  0.780186  0.517648  0.336977\n",
       "17  0.609510  0.646071  0.960066  0.968345  0.180291  0.569980\n",
       "18  0.518640  0.262213  0.866991  0.090951  0.893508  0.122355\n",
       "19  0.823103  0.723086  0.287773  0.457337  0.502900  0.806555"
      ]
     },
     "execution_count": 7,
     "metadata": {},
     "output_type": "execute_result"
    }
   ],
   "source": [
    "os.mkdir('output')\n",
    "rows = 5\n",
    "df = pd.DataFrame(np.random.rand(20, 6), columns=list('abcdef'))\n",
    "df"
   ]
  },
  {
   "cell_type": "markdown",
   "metadata": {},
   "source": [
    "Dividimos en `rows` el dataframe. La función split nos devuelve una lista con los dataframe a partir del elemento 1."
   ]
  },
  {
   "cell_type": "code",
   "execution_count": 8,
   "metadata": {},
   "outputs": [
    {
     "data": {
      "text/plain": [
       "[Empty DataFrame\n",
       " Columns: [a, b, c, d, e, f]\n",
       " Index: [],\n",
       "           a         b         c         d         e         f\n",
       " 0  0.589948  0.460775  0.381636  0.734224  0.430491  0.813828\n",
       " 1  0.412360  0.954703  0.901119  0.838794  0.701926  0.919696\n",
       " 2  0.053710  0.292131  0.095166  0.300081  0.191135  0.367199\n",
       " 3  0.844239  0.903555  0.552149  0.234901  0.755134  0.672232\n",
       " 4  0.003051  0.099680  0.846428  0.318876  0.874966  0.595613,\n",
       "           a         b         c         d         e         f\n",
       " 5  0.711139  0.794857  0.693231  0.846337  0.876457  0.483218\n",
       " 6  0.853200  0.869299  0.141882  0.139633  0.219479  0.896984\n",
       " 7  0.034835  0.111387  0.574497  0.561105  0.156729  0.684751\n",
       " 8  0.310979  0.909930  0.609327  0.967931  0.768299  0.594631\n",
       " 9  0.711545  0.305043  0.075207  0.123764  0.047524  0.167965,\n",
       "            a         b         c         d         e         f\n",
       " 10  0.773761  0.037396  0.496910  0.844923  0.347703  0.502734\n",
       " 11  0.404959  0.830559  0.245349  0.285886  0.119097  0.663866\n",
       " 12  0.517999  0.524753  0.227373  0.387764  0.837835  0.035664\n",
       " 13  0.668922  0.727692  0.232979  0.960197  0.297035  0.138463\n",
       " 14  0.950052  0.321830  0.083987  0.113036  0.014197  0.711392,\n",
       "            a         b         c         d         e         f\n",
       " 15  0.437533  0.719672  0.671081  0.213173  0.401768  0.078978\n",
       " 16  0.176899  0.075570  0.438935  0.780186  0.517648  0.336977\n",
       " 17  0.609510  0.646071  0.960066  0.968345  0.180291  0.569980\n",
       " 18  0.518640  0.262213  0.866991  0.090951  0.893508  0.122355\n",
       " 19  0.823103  0.723086  0.287773  0.457337  0.502900  0.806555]"
      ]
     },
     "execution_count": 8,
     "metadata": {},
     "output_type": "execute_result"
    }
   ],
   "source": [
    "np.split(df, range(0,len(df),rows), axis=0)"
   ]
  },
  {
   "cell_type": "markdown",
   "metadata": {},
   "source": [
    "El elemento 0 es información sobre la división realizada. Por lo que habría que trabajar con `[1:rows]` para quitar el primer elemento."
   ]
  },
  {
   "cell_type": "code",
   "execution_count": 9,
   "metadata": {},
   "outputs": [
    {
     "data": {
      "text/plain": [
       "[          a         b         c         d         e         f\n",
       " 0  0.589948  0.460775  0.381636  0.734224  0.430491  0.813828\n",
       " 1  0.412360  0.954703  0.901119  0.838794  0.701926  0.919696\n",
       " 2  0.053710  0.292131  0.095166  0.300081  0.191135  0.367199\n",
       " 3  0.844239  0.903555  0.552149  0.234901  0.755134  0.672232\n",
       " 4  0.003051  0.099680  0.846428  0.318876  0.874966  0.595613,\n",
       "           a         b         c         d         e         f\n",
       " 5  0.711139  0.794857  0.693231  0.846337  0.876457  0.483218\n",
       " 6  0.853200  0.869299  0.141882  0.139633  0.219479  0.896984\n",
       " 7  0.034835  0.111387  0.574497  0.561105  0.156729  0.684751\n",
       " 8  0.310979  0.909930  0.609327  0.967931  0.768299  0.594631\n",
       " 9  0.711545  0.305043  0.075207  0.123764  0.047524  0.167965,\n",
       "            a         b         c         d         e         f\n",
       " 10  0.773761  0.037396  0.496910  0.844923  0.347703  0.502734\n",
       " 11  0.404959  0.830559  0.245349  0.285886  0.119097  0.663866\n",
       " 12  0.517999  0.524753  0.227373  0.387764  0.837835  0.035664\n",
       " 13  0.668922  0.727692  0.232979  0.960197  0.297035  0.138463\n",
       " 14  0.950052  0.321830  0.083987  0.113036  0.014197  0.711392,\n",
       "            a         b         c         d         e         f\n",
       " 15  0.437533  0.719672  0.671081  0.213173  0.401768  0.078978\n",
       " 16  0.176899  0.075570  0.438935  0.780186  0.517648  0.336977\n",
       " 17  0.609510  0.646071  0.960066  0.968345  0.180291  0.569980\n",
       " 18  0.518640  0.262213  0.866991  0.090951  0.893508  0.122355\n",
       " 19  0.823103  0.723086  0.287773  0.457337  0.502900  0.806555]"
      ]
     },
     "execution_count": 9,
     "metadata": {},
     "output_type": "execute_result"
    }
   ],
   "source": [
    "np.split(df, range(0,len(df),rows), axis=0)[1:rows]"
   ]
  },
  {
   "cell_type": "markdown",
   "metadata": {},
   "source": [
    "Usaremos el indice del último elemento de cada grupo para enumerar cada fichero."
   ]
  },
  {
   "cell_type": "code",
   "execution_count": 10,
   "metadata": {},
   "outputs": [
    {
     "data": {
      "text/plain": [
       "9"
      ]
     },
     "execution_count": 10,
     "metadata": {},
     "output_type": "execute_result"
    }
   ],
   "source": [
    "np.split(df, range(0,len(df),rows), axis=0)[2].index[-1]"
   ]
  },
  {
   "cell_type": "markdown",
   "metadata": {},
   "source": [
    "Como lo que obtenemos de `.split()` es una lista de DataFrame, y hay que hacerlo en una línea, vamos a usar la funcionalidad de Python para crear una lista de valores, a partir de iterar una lista:\n",
    "\n",
    "```python\n",
    "[x for x in listavalores]\n",
    "```\n",
    "\n",
    "Dónde x sería cada dataframe dividido en 2000 rows.\n",
    "\n",
    "Para obtener la fecha que le da nombre, en este caso, basta con usar el numero del indice, pero el ejemplo del enunciado, como el indice es una fecha, se usa el `.split` de `str()` para separar la fecha de la hora y coger solo la fecha."
   ]
  },
  {
   "cell_type": "code",
   "execution_count": 11,
   "metadata": {},
   "outputs": [
    {
     "data": {
      "text/plain": [
       "[None, None, None, None]"
      ]
     },
     "execution_count": 11,
     "metadata": {},
     "output_type": "execute_result"
    }
   ],
   "source": [
    "[d.to_excel('output/file_%s.xlsx'%str(d.index[-1])) for d in np.split(df, range(0,len(df),rows), axis=0)[1:rows]]"
   ]
  },
  {
   "cell_type": "markdown",
   "metadata": {},
   "source": [
    "En varias líneas, sería esto:\n",
    "```python\n",
    "for d in np.split(df, range(0,len(df),rows), axis=0)[1:rows]:\n",
    "    d.to_excel('output/file_%03i.xlsx'%(df.index.get_loc(d.index[-1])/rows))\n",
    "```"
   ]
  },
  {
   "cell_type": "code",
   "execution_count": 12,
   "metadata": {},
   "outputs": [
    {
     "data": {
      "text/plain": [
       "['file_14.xlsx', 'file_19.xlsx', 'file_4.xlsx', 'file_9.xlsx']"
      ]
     },
     "execution_count": 12,
     "metadata": {},
     "output_type": "execute_result"
    }
   ],
   "source": [
    "sorted(os.listdir('output'))"
   ]
  },
  {
   "cell_type": "code",
   "execution_count": 13,
   "metadata": {},
   "outputs": [
    {
     "data": {
      "text/plain": [
       "0"
      ]
     },
     "execution_count": 13,
     "metadata": {},
     "output_type": "execute_result"
    }
   ],
   "source": [
    "os.system('rm -rf output')"
   ]
  },
  {
   "cell_type": "code",
   "execution_count": null,
   "metadata": {},
   "outputs": [],
   "source": []
  }
 ],
 "metadata": {
  "kernelspec": {
   "display_name": "Python 3",
   "language": "python",
   "name": "python3"
  },
  "language_info": {
   "codemirror_mode": {
    "name": "ipython",
    "version": 3
   },
   "file_extension": ".py",
   "mimetype": "text/x-python",
   "name": "python",
   "nbconvert_exporter": "python",
   "pygments_lexer": "ipython3",
   "version": "3.7.7"
  },
  "latex_envs": {
   "LaTeX_envs_menu_present": true,
   "autoclose": false,
   "autocomplete": true,
   "bibliofile": "biblio.bib",
   "cite_by": "apalike",
   "current_citInitial": 1,
   "eqLabelWithNumbers": true,
   "eqNumInitial": 1,
   "hotkeys": {
    "equation": "Ctrl-E",
    "itemize": "Ctrl-I"
   },
   "labels_anchors": false,
   "latex_user_defs": false,
   "report_style_numbering": false,
   "user_envs_cfg": false
  },
  "varInspector": {
   "cols": {
    "lenName": 16,
    "lenType": 16,
    "lenVar": 40
   },
   "kernels_config": {
    "python": {
     "delete_cmd_postfix": "",
     "delete_cmd_prefix": "del ",
     "library": "var_list.py",
     "varRefreshCmd": "print(var_dic_list())"
    },
    "r": {
     "delete_cmd_postfix": ") ",
     "delete_cmd_prefix": "rm(",
     "library": "var_list.r",
     "varRefreshCmd": "cat(var_dic_list()) "
    }
   },
   "types_to_exclude": [
    "module",
    "function",
    "builtin_function_or_method",
    "instance",
    "_Feature"
   ],
   "window_display": false
  }
 },
 "nbformat": 4,
 "nbformat_minor": 4
}
