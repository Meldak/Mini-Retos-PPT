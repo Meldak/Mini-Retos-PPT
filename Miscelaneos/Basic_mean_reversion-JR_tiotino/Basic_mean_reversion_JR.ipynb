{
 "cells": [
  {
   "cell_type": "code",
   "execution_count": 1,
   "metadata": {},
   "outputs": [],
   "source": [
    "import numpy as np\n",
    "import pandas as pd\n",
    "from datetime import datetime\n",
    "from pandas import concat\n",
    "import statsmodels.api as sm\n",
    "import statsmodels.tsa.stattools as ts\n",
    "import scipy.io as sio"
   ]
  },
  {
   "cell_type": "code",
   "execution_count": 2,
   "metadata": {},
   "outputs": [],
   "source": [
    "startTime = datetime.now()"
   ]
  },
  {
   "cell_type": "markdown",
   "metadata": {},
   "source": [
    "#### Valor del pip y comision a definir:"
   ]
  },
  {
   "cell_type": "code",
   "execution_count": 3,
   "metadata": {},
   "outputs": [],
   "source": [
    "lots = 0.01\n",
    "pip = 10000\n",
    "pip_value = 1.1 *lots\n",
    "round_cost = 5 *lots"
   ]
  },
  {
   "cell_type": "code",
   "execution_count": 4,
   "metadata": {},
   "outputs": [],
   "source": [
    "df = pd.read_pickle('EURNOK.pkl')\n",
    "df = df[['Close']]\n",
    "df = df.dropna()"
   ]
  },
  {
   "cell_type": "code",
   "execution_count": 5,
   "metadata": {
    "scrolled": true
   },
   "outputs": [
    {
     "data": {
      "text/html": [
       "<div>\n",
       "<style scoped>\n",
       "    .dataframe tbody tr th:only-of-type {\n",
       "        vertical-align: middle;\n",
       "    }\n",
       "\n",
       "    .dataframe tbody tr th {\n",
       "        vertical-align: top;\n",
       "    }\n",
       "\n",
       "    .dataframe thead th {\n",
       "        text-align: right;\n",
       "    }\n",
       "</style>\n",
       "<table border=\"1\" class=\"dataframe\">\n",
       "  <thead>\n",
       "    <tr style=\"text-align: right;\">\n",
       "      <th></th>\n",
       "      <th>Close</th>\n",
       "    </tr>\n",
       "    <tr>\n",
       "      <th>DateTime</th>\n",
       "      <th></th>\n",
       "    </tr>\n",
       "  </thead>\n",
       "  <tbody>\n",
       "    <tr>\n",
       "      <th>2015-06-01 00:00:00</th>\n",
       "      <td>8.52613</td>\n",
       "    </tr>\n",
       "    <tr>\n",
       "      <th>2015-06-01 00:30:00</th>\n",
       "      <td>8.53023</td>\n",
       "    </tr>\n",
       "    <tr>\n",
       "      <th>2015-06-01 01:00:00</th>\n",
       "      <td>8.52764</td>\n",
       "    </tr>\n",
       "    <tr>\n",
       "      <th>2015-06-01 01:30:00</th>\n",
       "      <td>8.52674</td>\n",
       "    </tr>\n",
       "    <tr>\n",
       "      <th>2015-06-01 02:00:00</th>\n",
       "      <td>8.52684</td>\n",
       "    </tr>\n",
       "  </tbody>\n",
       "</table>\n",
       "</div>"
      ],
      "text/plain": [
       "                       Close\n",
       "DateTime                    \n",
       "2015-06-01 00:00:00  8.52613\n",
       "2015-06-01 00:30:00  8.53023\n",
       "2015-06-01 01:00:00  8.52764\n",
       "2015-06-01 01:30:00  8.52674\n",
       "2015-06-01 02:00:00  8.52684"
      ]
     },
     "execution_count": 5,
     "metadata": {},
     "output_type": "execute_result"
    }
   ],
   "source": [
    "df.head(5)"
   ]
  },
  {
   "cell_type": "markdown",
   "metadata": {},
   "source": [
    "#### Calculamos el ZScore"
   ]
  },
  {
   "cell_type": "code",
   "execution_count": 6,
   "metadata": {},
   "outputs": [],
   "source": [
    "mean = df.Close.rolling(40).mean()\n",
    "std = df.Close.rolling(40).std()\n",
    "df['zscore'] = (df.Close-mean)/std "
   ]
  },
  {
   "cell_type": "markdown",
   "metadata": {},
   "source": [
    "#### Backtest vectorizado"
   ]
  },
  {
   "cell_type": "code",
   "execution_count": 7,
   "metadata": {},
   "outputs": [],
   "source": [
    "thresholds = []\n",
    "pips = []\n",
    "trades = []\n",
    "\n",
    "for i in np.arange(1.2, 3, 0.1):\n",
    "\n",
    "    #Cuando ZScore cruce 0 devuelve 0\n",
    "    df['Zero_X'] = np.where((df.zscore.shift() < 0) & (df.zscore > 0),\n",
    "                        0, np.where((df.zscore.shift() > 0) &\n",
    "                                    (df.zscore < 0), 0, 2))\n",
    "\n",
    "    #Si Zscore cruza threshold, devuelve señal compra o venta\n",
    "    df['position'] = np.where(df.zscore.shift() > i, -1,\n",
    "                          np.where(df.zscore.shift() < -i, 1,\n",
    "                                   np.where(df.Zero_X.shift() == 0,\n",
    "                                            0, np.nan)))\n",
    "    df.ffill(inplace=True)\n",
    "\n",
    "    df['trades'] = np.where((df.position.shift() == 0) &\n",
    "                            (df.position != 0), 1, 0)\n",
    "\n",
    "    df['sym_1_Return'] = np.log(df.iloc[:,0] / df.iloc[:,0].shift())\n",
    "    Total_trades = df.trades.sum()\n",
    "    df['sym_1_profit'] = (df.sym_1_Return * df.position)\n",
    "    df['cumulative_pips'] = (np.cumsum(df.sym_1_profit)*pip)\n",
    "\n",
    "    Total_pips_1 = df.cumulative_pips.iloc[-1]\n",
    "    pips_trade_1 = Total_pips_1/Total_trades\n",
    "    \n",
    "    thresholds.append(i)\n",
    "    pips.append(pips_trade_1)\n",
    "    trades.append(Total_trades)"
   ]
  },
  {
   "cell_type": "code",
   "execution_count": 8,
   "metadata": {},
   "outputs": [],
   "source": [
    "import matplotlib.pyplot as plt"
   ]
  },
  {
   "cell_type": "markdown",
   "metadata": {},
   "source": [
    "#### Pips trade vs threshold"
   ]
  },
  {
   "cell_type": "code",
   "execution_count": 9,
   "metadata": {
    "scrolled": true
   },
   "outputs": [
    {
     "data": {
      "image/png": "[encoded data removed]",
      "text/plain": [
       "<Figure size 864x360 with 1 Axes>"
      ]
     },
     "metadata": {},
     "output_type": "display_data"
    }
   ],
   "source": [
    "plt.figure(figsize=(12,5))\n",
    "plt.xlabel('threshold')\n",
    "plt.ylabel('average pips trade')\n",
    "plt.plot(thresholds, pips, color='r', label='pips trade')\n",
    "plt.show()"
   ]
  },
  {
   "cell_type": "markdown",
   "metadata": {},
   "source": [
    "#### Num trades vs threshold"
   ]
  },
  {
   "cell_type": "code",
   "execution_count": 10,
   "metadata": {},
   "outputs": [
    {
     "data": {
      "image/png": "[encoded data removed]",
      "text/plain": [
       "<Figure size 864x360 with 1 Axes>"
      ]
     },
     "metadata": {},
     "output_type": "display_data"
    }
   ],
   "source": [
    "plt.figure(figsize=(12,5))\n",
    "plt.xlabel('threshold')\n",
    "plt.ylabel('trades')\n",
    "plt.plot(thresholds, trades, color='r',  label='Cum pips')\n",
    "plt.legend()\n",
    "plt.show()"
   ]
  },
  {
   "cell_type": "code",
   "execution_count": 11,
   "metadata": {},
   "outputs": [],
   "source": [
    "df['cumulative_dolars'] = (np.cumsum(df.sym_1_profit)*pip)*pip_value"
   ]
  },
  {
   "cell_type": "code",
   "execution_count": 12,
   "metadata": {
    "scrolled": true
   },
   "outputs": [
    {
     "data": {
      "image/png": "[encoded data removed]",
      "text/plain": [
       "<Figure size 864x360 with 1 Axes>"
      ]
     },
     "metadata": {},
     "output_type": "display_data"
    }
   ],
   "source": [
    "plt.figure(figsize=(12,5))\n",
    "index = df.index.to_pydatetime()\n",
    "plt.title('Mean reversion')\n",
    "plt.plot(index, df['cumulative_pips'].values, color='r', label='Cum pips')\n",
    "plt.legend()\n",
    "plt.show()"
   ]
  },
  {
   "cell_type": "code",
   "execution_count": 13,
   "metadata": {},
   "outputs": [
    {
     "name": "stdout",
     "output_type": "stream",
     "text": [
      "Total trades is:  553\n"
     ]
    }
   ],
   "source": [
    "print('Total trades is: ', Total_trades)"
   ]
  },
  {
   "cell_type": "code",
   "execution_count": 14,
   "metadata": {},
   "outputs": [
    {
     "name": "stdout",
     "output_type": "stream",
     "text": [
      "Average pips trade:  5.61\n"
     ]
    }
   ],
   "source": [
    "print('Average pips trade: ', float(\"{0:.2f}\".format(pips_trade_1)))"
   ]
  },
  {
   "cell_type": "code",
   "execution_count": 15,
   "metadata": {},
   "outputs": [
    {
     "name": "stdout",
     "output_type": "stream",
     "text": [
      "0:00:00.829000\n"
     ]
    }
   ],
   "source": [
    "print(datetime.now() - startTime)"
   ]
  }
 ],
 "metadata": {
  "kernelspec": {
   "display_name": "Python 3",
   "language": "python",
   "name": "python3"
  },
  "language_info": {
   "codemirror_mode": {
    "name": "ipython",
    "version": 3
   },
   "file_extension": ".py",
   "mimetype": "text/x-python",
   "name": "python",
   "nbconvert_exporter": "python",
   "pygments_lexer": "ipython3",
   "version": "3.5.5"
  }
 },
 "nbformat": 4,
 "nbformat_minor": 2
}
