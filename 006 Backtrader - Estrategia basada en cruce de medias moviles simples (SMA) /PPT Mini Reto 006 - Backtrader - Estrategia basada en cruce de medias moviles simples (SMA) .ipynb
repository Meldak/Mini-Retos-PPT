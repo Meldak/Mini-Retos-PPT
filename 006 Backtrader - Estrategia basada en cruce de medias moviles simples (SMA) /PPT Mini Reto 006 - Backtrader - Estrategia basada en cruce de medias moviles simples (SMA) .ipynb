{
 "cells": [
  {
   "cell_type": "markdown",
   "metadata": {},
   "source": [
    "# Mini Reto 006 del grupo Python para Trading\n",
    "\n",
    "# Backtrader - Estrategia basada en cruce de medias moviles simples (SMA) \n",
    "\n",
    "\n",
    "Este mini reto es la continuación natural del Mini Reto 005 donde se calcularon las medias móviles rápidas y lentas para identificar los cruces y generar una señal a partir de dichos cruces.\n",
    "\n",
    "En esta ocasión, lo que se pide es utilizar esa experiencia previa para montar una estrategia y hacer el backtesting para evaluar los resultados de la estrategia con datos de muestra.\n",
    "\n",
    "Lo mas sencillo, que no lo más optimo ni \"real\", es hacer un backtest vectorizado, dónde se añaden columnas a cada periodo indicando el beneficio/perdida en ese periodo y finalmente obtener el acumulado para saber si ha habido o no beneficio. \n",
    "\n",
    "Esto ya se muestra en detalle en el siguiente Webinar ( https://www.youtube.com/watch?v=CNCRGcFh5Lo ), así que vamos a dar el siguiente paso utilizando `Backtrader` para simular la estrategia lo mas \"real\" posible. \n",
    "\n",
    "Partiendo del código que hay a continuación:\n",
    "\n",
    "- 1) Diseñar la estrategia en base a los indicadores\n",
    "- 2) Configurar el entorno de backtrader\n",
    "- 3) Ejecutar el backtesting con la estrategia\n",
    "- 4) Analizar los resultados\n",
    "\n",
    "\n",
    "**Se pide** COMPLETAR el punto 1 para hacer funcionar el Notebook al completo."
   ]
  },
  {
   "cell_type": "markdown",
   "metadata": {},
   "source": [
    "# A partir del siguiente código"
   ]
  },
  {
   "cell_type": "code",
   "execution_count": 1,
   "metadata": {},
   "outputs": [],
   "source": [
    "import warnings\n",
    "warnings.filterwarnings('ignore')"
   ]
  },
  {
   "cell_type": "code",
   "execution_count": 2,
   "metadata": {},
   "outputs": [],
   "source": [
    "import backtrader as bt\n",
    "import pyfolio as pf\n",
    "\n",
    "import matplotlib.pyplot as plt\n",
    "plt.rcParams['figure.figsize']=[10.5, 6]\n",
    "plt.rcParams['figure.dpi']=90\n",
    "\n",
    "import yfinance as yf"
   ]
  },
  {
   "cell_type": "code",
   "execution_count": 3,
   "metadata": {},
   "outputs": [
    {
     "name": "stdout",
     "output_type": "stream",
     "text": [
      "[*********************100%***********************]  1 of 1 completed\n"
     ]
    }
   ],
   "source": [
    "fast_SMA = 9\n",
    "slow_SMA = 30\n",
    "cash = 1000\n",
    "aapl = yf.download('AAPL', '2020-1-1','2020-10-25')"
   ]
  },
  {
   "cell_type": "markdown",
   "metadata": {},
   "source": [
    "## Diseñamos la estrategia"
   ]
  },
  {
   "cell_type": "code",
   "execution_count": null,
   "metadata": {},
   "outputs": [],
   "source": [
    "class cruceSMA(bt.Strategy):\n",
    "    params = dict(slow=slow_SMA,\n",
    "                  fast=fast_SMA\n",
    "                 )\n",
    "\n",
    "    def __init__(self):\n",
    "        fast = bt.ind.SMA(period=self.p.fast)\n",
    "        slow = bt.ind.SMA(period=self.p.slow)\n",
    "        self.crossover = bt.ind.CrossOver(fast, slow)\n",
    "\n",
    "    def next(self):\n",
    "        if not self.position:      # Si no hay ninguna operacion abierta\n",
    "            \"\"\" ------------------------------ \"\"\"\n",
    "            \"\"\" COMPLETAR CON TU PROPIO CODIGO \"\"\"\n",
    "            \"\"\" ------------------------------ \"\"\"\n",
    "            if .....COMPLETAR....: # si la rapida cruza hacia arriba la lenta\n",
    "                self.buy()         # Se entra en LONG\n",
    "            if .....COMPLETAR....: # si la rapida cruza hacia abajo la lenta\n",
    "                self.sell()        # Se entra en SHORT\n",
    "            \"\"\" ------------------------------ \"\"\"\n",
    "        elif self.crossover != 0:  # Si hay una operacion abierta y el cruce es hacia abajo \n",
    "            self.close()           # Se cierra la posicion\n"
   ]
  },
  {
   "cell_type": "markdown",
   "metadata": {},
   "source": [
    "## Configuramos el entorno"
   ]
  },
  {
   "cell_type": "code",
   "execution_count": null,
   "metadata": {},
   "outputs": [],
   "source": [
    "cerebro = bt.Cerebro()\n",
    "cerebro.broker.set_cash(cash)\n",
    "\n",
    "data = bt.feeds.PandasData(dataname=aapl)\n",
    "cerebro.adddata(data)\n",
    "\n",
    "cerebro.addstrategy(cruceSMA)\n",
    "cerebro.addanalyzer(bt.analyzers.PyFolio, _name='pyfolio')"
   ]
  },
  {
   "cell_type": "markdown",
   "metadata": {},
   "source": [
    "## Ejecutamos el backtesting"
   ]
  },
  {
   "cell_type": "code",
   "execution_count": null,
   "metadata": {},
   "outputs": [],
   "source": [
    "results = cerebro.run()\n",
    "#cerebro.plot(style='candlebar',iplot=False)[0][0]\n",
    "cerebro.plot(style='candlebar')"
   ]
  },
  {
   "cell_type": "markdown",
   "metadata": {},
   "source": [
    "## Analizamos los resultados"
   ]
  },
  {
   "cell_type": "code",
   "execution_count": null,
   "metadata": {},
   "outputs": [],
   "source": [
    "pyfolio_analyzer = results[0].analyzers.getbyname('pyfolio')\n",
    "returns, positions, transactions, gross_lev = pyfolio_analyzer.get_pf_items()"
   ]
  },
  {
   "cell_type": "code",
   "execution_count": null,
   "metadata": {
    "scrolled": false
   },
   "outputs": [],
   "source": [
    "%matplotlib inline\n",
    "pf.create_full_tear_sheet(returns, transactions=transactions, positions=positions)"
   ]
  },
  {
   "cell_type": "markdown",
   "metadata": {},
   "source": [
    "# Solución propuesta\n",
    "\n",
    "Completar el **punto 1** para hacer funcionar el backtesting.\n",
    "\n",
    "Explicar a continuación el código a completar y volver a ejecutar el notebook para ver los resultados."
   ]
  },
  {
   "cell_type": "code",
   "execution_count": null,
   "metadata": {},
   "outputs": [],
   "source": []
  }
 ],
 "metadata": {
  "kernelspec": {
   "display_name": "Python 3",
   "language": "python",
   "name": "python3"
  },
  "language_info": {
   "codemirror_mode": {
    "name": "ipython",
    "version": 3
   },
   "file_extension": ".py",
   "mimetype": "text/x-python",
   "name": "python",
   "nbconvert_exporter": "python",
   "pygments_lexer": "ipython3",
   "version": "3.7.7"
  },
  "toc": {
   "base_numbering": 1,
   "nav_menu": {},
   "number_sections": true,
   "sideBar": true,
   "skip_h1_title": true,
   "title_cell": "Table of Contents",
   "title_sidebar": "Contents",
   "toc_cell": false,
   "toc_position": {},
   "toc_section_display": true,
   "toc_window_display": true
  }
 },
 "nbformat": 4,
 "nbformat_minor": 4
}
