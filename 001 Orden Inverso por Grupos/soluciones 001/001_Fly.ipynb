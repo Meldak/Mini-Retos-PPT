{
 "cells": [
  {
   "cell_type": "code",
   "execution_count": 12,
   "metadata": {},
   "outputs": [],
   "source": [
    "import pandas as pd"
   ]
  },
  {
   "cell_type": "markdown",
   "metadata": {},
   "source": [
    "# Mini reto 001"
   ]
  },
  {
   "cell_type": "markdown",
   "metadata": {},
   "source": [
    "### Ordenar las subseries de forma descendente\n",
    "\n",
    "La finalidad es ordenar de forma descendente las subseries 1..n que hay en la serie.\n",
    "\n",
    "Output solicitado:\n",
    "\n",
    "[6,5,4,3,2,1,4,3,2,1,5,4,3,2,1,2,1,9,8,7,6,5,4,3,2,1]"
   ]
  },
  {
   "cell_type": "code",
   "execution_count": 13,
   "metadata": {},
   "outputs": [
    {
     "data": {
      "text/plain": [
       "0     1\n",
       "1     2\n",
       "2     3\n",
       "3     4\n",
       "4     5\n",
       "5     6\n",
       "6     1\n",
       "7     2\n",
       "8     3\n",
       "9     4\n",
       "10    1\n",
       "11    2\n",
       "12    3\n",
       "13    4\n",
       "14    5\n",
       "15    1\n",
       "16    2\n",
       "17    1\n",
       "18    2\n",
       "19    3\n",
       "20    4\n",
       "21    5\n",
       "22    6\n",
       "23    7\n",
       "24    8\n",
       "25    9\n",
       "dtype: int64"
      ]
     },
     "execution_count": 13,
     "metadata": {},
     "output_type": "execute_result"
    }
   ],
   "source": [
    "serie = pd.Series([1,2,3,4,5,6,1,2,3,4,1,2,3,4,5,1,2,1,2,3,4,5,6,7,8,9])\n",
    "serie"
   ]
  },
  {
   "cell_type": "code",
   "execution_count": 14,
   "metadata": {},
   "outputs": [
    {
     "name": "stdout",
     "output_type": "stream",
     "text": [
      "[6, 5, 4, 3, 2, 1, 4, 3, 2, 1, 5, 4, 3, 2, 1, 2, 1, 9, 8, 7, 6, 5, 4, 3, 2, 1]\n"
     ]
    }
   ],
   "source": [
    "# Inicializamos dos variables que nos servirán de referencia:\n",
    "lastIndex = 0\n",
    "lastValor = 0\n",
    "\n",
    "# Inicializamos también la lista resultante.\n",
    "result = []\n",
    "\n",
    "# E iteramos por la lista proporcionada\n",
    "for i, valor in enumerate(serie):\n",
    "    # Si el valor que estamos mirando es más pequeño que el anterior, significa que cambiamos de subserie:\n",
    "    if (i == len(serie)-1):\n",
    "        # Cogemos la subserie, que va del último encuentro de un mínimo hasta el valor justo anterior al que estamos:\n",
    "        subset = serie[lastIndex:i+1]\n",
    "\n",
    "        # Ordenamos la lista\n",
    "        subset = subset.sort_values(ascending = False)\n",
    "\n",
    "        # Y la añadimos al resultado\n",
    "        result += list(subset)\n",
    "            \n",
    "    elif (lastValor >= valor):\n",
    "        \n",
    "            # Cogemos la subserie, que va del último encuentro de un mínimo hasta el valor justo anterior al que estamos:\n",
    "            subset = serie[lastIndex:i]\n",
    "\n",
    "            # Ordenamos la lista\n",
    "            subset = subset.sort_values(ascending = False)\n",
    "\n",
    "            # Y la añadimos al resultado\n",
    "            result += list(subset)\n",
    "\n",
    "            # Guardamos este valor para trocear la serie a partir de este en el siguiente encuentro:\n",
    "            lastIndex = i\n",
    "\n",
    "    \n",
    "    # Guardamos el último valor para poder hacer la comprobación de si es inferior:\n",
    "    lastValor = valor\n",
    "    \n",
    "# Mostramos el resultado:\n",
    "print(result)"
   ]
  }
 ],
 "metadata": {
  "kernelspec": {
   "display_name": "Python 3",
   "language": "python",
   "name": "python3"
  },
  "language_info": {
   "codemirror_mode": {
    "name": "ipython",
    "version": 3
   },
   "file_extension": ".py",
   "mimetype": "text/x-python",
   "name": "python",
   "nbconvert_exporter": "python",
   "pygments_lexer": "ipython3",
   "version": "3.7.7"
  },
  "latex_envs": {
   "LaTeX_envs_menu_present": true,
   "autoclose": false,
   "autocomplete": true,
   "bibliofile": "biblio.bib",
   "cite_by": "apalike",
   "current_citInitial": 1,
   "eqLabelWithNumbers": true,
   "eqNumInitial": 1,
   "hotkeys": {
    "equation": "Ctrl-E",
    "itemize": "Ctrl-I"
   },
   "labels_anchors": false,
   "latex_user_defs": false,
   "report_style_numbering": false,
   "user_envs_cfg": false
  },
  "varInspector": {
   "cols": {
    "lenName": 16,
    "lenType": 16,
    "lenVar": 40
   },
   "kernels_config": {
    "python": {
     "delete_cmd_postfix": "",
     "delete_cmd_prefix": "del ",
     "library": "var_list.py",
     "varRefreshCmd": "print(var_dic_list())"
    },
    "r": {
     "delete_cmd_postfix": ") ",
     "delete_cmd_prefix": "rm(",
     "library": "var_list.r",
     "varRefreshCmd": "cat(var_dic_list()) "
    }
   },
   "types_to_exclude": [
    "module",
    "function",
    "builtin_function_or_method",
    "instance",
    "_Feature"
   ],
   "window_display": false
  }
 },
 "nbformat": 4,
 "nbformat_minor": 4
}
