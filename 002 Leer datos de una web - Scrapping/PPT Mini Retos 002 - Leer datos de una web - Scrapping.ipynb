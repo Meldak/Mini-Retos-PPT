{
 "cells": [
  {
   "cell_type": "markdown",
   "metadata": {},
   "source": [
    "# Mini Reto 002 Leer datos de una web - Scrapping\n",
    "\n",
    "## Leer datos de una web - Scrapping\n",
    "\n",
    "Leer los datos de la siguiente web. Este proceso se denomina Scrapping.\n",
    "\n",
    "URL Objetivo: https://www.allaria.com.ar/es/Opcion\n",
    "\n",
    "Realizarlo de 2 formas:\n",
    "\n",
    "#### A) Con pandas:\n",
    "\n",
    "#### B) Con beautifulsoup:\n",
    "Mas complicado, requiere saber algo de html. Este método es especialmente útil, cuando pandas no es capaz de realizarlo correctamente.\n",
    "\n",
    "\n",
    "\n"
   ]
  },
  {
   "cell_type": "code",
   "execution_count": null,
   "metadata": {},
   "outputs": [],
   "source": []
  }
 ],
 "metadata": {
  "kernelspec": {
   "display_name": "Python 3",
   "language": "python",
   "name": "python3"
  },
  "language_info": {
   "codemirror_mode": {
    "name": "ipython",
    "version": 3
   },
   "file_extension": ".py",
   "mimetype": "text/x-python",
   "name": "python",
   "nbconvert_exporter": "python",
   "pygments_lexer": "ipython3",
   "version": "3.7.7"
  }
 },
 "nbformat": 4,
 "nbformat_minor": 4
}
