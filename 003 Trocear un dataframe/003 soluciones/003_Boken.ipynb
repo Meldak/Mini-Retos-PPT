{
 "cells": [
  {
   "cell_type": "markdown",
   "metadata": {},
   "source": [
    "# Mini Reto 003 del grupo Python para Trading\n",
    "\n",
    "## Guardar un dataframe por trozos en varios ficheros excel\n"
   ]
  },
  {
   "cell_type": "markdown",
   "metadata": {},
   "source": [
    "Partimos del dataframe `data` que se obtiene con el código recogido más abajo, que tiene más de 23.000 lineas.\n",
    "\n",
    "El reto consiste en conseguir **trocearlo** en varios dataframe de **2.000 lineas como máximo** y guardar cada trozo en un **archivo excel**, con un nombre que **identifique el periodo de fechas** que contiene cada fichero.\n",
    "\n",
    "### Esos si, ¡ usando **una sola linea de código** !"
   ]
  },
  {
   "cell_type": "code",
   "execution_count": 4,
   "metadata": {
    "ExecuteTime": {
     "end_time": "2020-10-09T14:42:38.669353Z",
     "start_time": "2020-10-09T14:42:37.389599Z"
    }
   },
   "outputs": [
    {
     "name": "stdout",
     "output_type": "stream",
     "text": [
      "[*********************100%***********************]  1 of 1 completed\n"
     ]
    },
    {
     "data": {
      "text/html": [
       "<div>\n",
       "<style scoped>\n",
       "    .dataframe tbody tr th:only-of-type {\n",
       "        vertical-align: middle;\n",
       "    }\n",
       "\n",
       "    .dataframe tbody tr th {\n",
       "        vertical-align: top;\n",
       "    }\n",
       "\n",
       "    .dataframe thead th {\n",
       "        text-align: right;\n",
       "    }\n",
       "</style>\n",
       "<table border=\"1\" class=\"dataframe\">\n",
       "  <thead>\n",
       "    <tr style=\"text-align: right;\">\n",
       "      <th></th>\n",
       "      <th>Open</th>\n",
       "      <th>High</th>\n",
       "      <th>Low</th>\n",
       "      <th>Close</th>\n",
       "      <th>Adj Close</th>\n",
       "      <th>Volume</th>\n",
       "    </tr>\n",
       "    <tr>\n",
       "      <th>Date</th>\n",
       "      <th></th>\n",
       "      <th></th>\n",
       "      <th></th>\n",
       "      <th></th>\n",
       "      <th></th>\n",
       "      <th></th>\n",
       "    </tr>\n",
       "  </thead>\n",
       "  <tbody>\n",
       "    <tr>\n",
       "      <th>1927-12-30</th>\n",
       "      <td>17.660000</td>\n",
       "      <td>17.660000</td>\n",
       "      <td>17.660000</td>\n",
       "      <td>17.660000</td>\n",
       "      <td>17.660000</td>\n",
       "      <td>0</td>\n",
       "    </tr>\n",
       "    <tr>\n",
       "      <th>1928-01-03</th>\n",
       "      <td>17.760000</td>\n",
       "      <td>17.760000</td>\n",
       "      <td>17.760000</td>\n",
       "      <td>17.760000</td>\n",
       "      <td>17.760000</td>\n",
       "      <td>0</td>\n",
       "    </tr>\n",
       "    <tr>\n",
       "      <th>1928-01-04</th>\n",
       "      <td>17.719999</td>\n",
       "      <td>17.719999</td>\n",
       "      <td>17.719999</td>\n",
       "      <td>17.719999</td>\n",
       "      <td>17.719999</td>\n",
       "      <td>0</td>\n",
       "    </tr>\n",
       "    <tr>\n",
       "      <th>1928-01-05</th>\n",
       "      <td>17.549999</td>\n",
       "      <td>17.549999</td>\n",
       "      <td>17.549999</td>\n",
       "      <td>17.549999</td>\n",
       "      <td>17.549999</td>\n",
       "      <td>0</td>\n",
       "    </tr>\n",
       "    <tr>\n",
       "      <th>1928-01-06</th>\n",
       "      <td>17.660000</td>\n",
       "      <td>17.660000</td>\n",
       "      <td>17.660000</td>\n",
       "      <td>17.660000</td>\n",
       "      <td>17.660000</td>\n",
       "      <td>0</td>\n",
       "    </tr>\n",
       "    <tr>\n",
       "      <th>...</th>\n",
       "      <td>...</td>\n",
       "      <td>...</td>\n",
       "      <td>...</td>\n",
       "      <td>...</td>\n",
       "      <td>...</td>\n",
       "      <td>...</td>\n",
       "    </tr>\n",
       "    <tr>\n",
       "      <th>2020-10-07</th>\n",
       "      <td>3384.560059</td>\n",
       "      <td>3426.260010</td>\n",
       "      <td>3384.560059</td>\n",
       "      <td>3419.439941</td>\n",
       "      <td>3419.439941</td>\n",
       "      <td>3807830000</td>\n",
       "    </tr>\n",
       "    <tr>\n",
       "      <th>2020-10-08</th>\n",
       "      <td>3434.280029</td>\n",
       "      <td>3447.280029</td>\n",
       "      <td>3428.149902</td>\n",
       "      <td>3446.830078</td>\n",
       "      <td>3446.830078</td>\n",
       "      <td>3856190000</td>\n",
       "    </tr>\n",
       "    <tr>\n",
       "      <th>2020-10-09</th>\n",
       "      <td>3459.669922</td>\n",
       "      <td>3482.340088</td>\n",
       "      <td>3458.070068</td>\n",
       "      <td>3477.139893</td>\n",
       "      <td>3477.139893</td>\n",
       "      <td>3939060000</td>\n",
       "    </tr>\n",
       "    <tr>\n",
       "      <th>2020-10-12</th>\n",
       "      <td>3500.020020</td>\n",
       "      <td>3549.850098</td>\n",
       "      <td>3499.610107</td>\n",
       "      <td>3534.219971</td>\n",
       "      <td>3534.219971</td>\n",
       "      <td>3428970000</td>\n",
       "    </tr>\n",
       "    <tr>\n",
       "      <th>2020-10-13</th>\n",
       "      <td>3534.010010</td>\n",
       "      <td>3534.010010</td>\n",
       "      <td>3500.860107</td>\n",
       "      <td>3511.929932</td>\n",
       "      <td>3511.929932</td>\n",
       "      <td>2357875709</td>\n",
       "    </tr>\n",
       "  </tbody>\n",
       "</table>\n",
       "<p>23307 rows × 6 columns</p>\n",
       "</div>"
      ],
      "text/plain": [
       "                   Open         High          Low        Close    Adj Close  \\\n",
       "Date                                                                          \n",
       "1927-12-30    17.660000    17.660000    17.660000    17.660000    17.660000   \n",
       "1928-01-03    17.760000    17.760000    17.760000    17.760000    17.760000   \n",
       "1928-01-04    17.719999    17.719999    17.719999    17.719999    17.719999   \n",
       "1928-01-05    17.549999    17.549999    17.549999    17.549999    17.549999   \n",
       "1928-01-06    17.660000    17.660000    17.660000    17.660000    17.660000   \n",
       "...                 ...          ...          ...          ...          ...   \n",
       "2020-10-07  3384.560059  3426.260010  3384.560059  3419.439941  3419.439941   \n",
       "2020-10-08  3434.280029  3447.280029  3428.149902  3446.830078  3446.830078   \n",
       "2020-10-09  3459.669922  3482.340088  3458.070068  3477.139893  3477.139893   \n",
       "2020-10-12  3500.020020  3549.850098  3499.610107  3534.219971  3534.219971   \n",
       "2020-10-13  3534.010010  3534.010010  3500.860107  3511.929932  3511.929932   \n",
       "\n",
       "                Volume  \n",
       "Date                    \n",
       "1927-12-30           0  \n",
       "1928-01-03           0  \n",
       "1928-01-04           0  \n",
       "1928-01-05           0  \n",
       "1928-01-06           0  \n",
       "...                ...  \n",
       "2020-10-07  3807830000  \n",
       "2020-10-08  3856190000  \n",
       "2020-10-09  3939060000  \n",
       "2020-10-12  3428970000  \n",
       "2020-10-13  2357875709  \n",
       "\n",
       "[23307 rows x 6 columns]"
      ]
     },
     "execution_count": 4,
     "metadata": {},
     "output_type": "execute_result"
    }
   ],
   "source": [
    "import yfinance as yf\n",
    "\n",
    "data = yf.download(\"^GSPC\")\n",
    "data"
   ]
  },
  {
   "cell_type": "markdown",
   "metadata": {},
   "source": [
    "## Solución propuesta."
   ]
  },
  {
   "cell_type": "code",
   "execution_count": 1,
   "metadata": {},
   "outputs": [],
   "source": [
    "import pandas as pd\n",
    "import numpy as np\n",
    "import os"
   ]
  },
  {
   "cell_type": "markdown",
   "metadata": {},
   "source": [
    "Creamos la carpeta que contendrá los ficheros de salida y fijamos el número rows por fichero"
   ]
  },
  {
   "cell_type": "code",
   "execution_count": 18,
   "metadata": {},
   "outputs": [],
   "source": [
    "os.mkdir('output')\n",
    "rows = 2000"
   ]
  },
  {
   "cell_type": "code",
   "execution_count": 14,
   "metadata": {},
   "outputs": [
    {
     "data": {
      "text/plain": [
       "[None, None, None, None, None, None, None, None, None, None, None, None]"
      ]
     },
     "execution_count": 14,
     "metadata": {},
     "output_type": "execute_result"
    }
   ],
   "source": [
    "[d.to_excel('output/file_%s.xlsx'%str(d.index[-1]).split(' ')[0]) for d in np.split(data, range(0,len(data),rows), axis=0)[1:rows]]"
   ]
  },
  {
   "cell_type": "code",
   "execution_count": 17,
   "metadata": {},
   "outputs": [
    {
     "data": {
      "text/plain": [
       "['file_1936-01-09.xlsx',\n",
       " 'file_1999-09-10.xlsx',\n",
       " 'file_1967-11-30.xlsx',\n",
       " 'file_1952-01-09.xlsx',\n",
       " 'file_2015-08-05.xlsx',\n",
       " 'file_2020-10-13.xlsx',\n",
       " 'file_1959-12-21.xlsx',\n",
       " 'file_2007-08-24.xlsx',\n",
       " 'file_1983-11-10.xlsx',\n",
       " 'file_1991-10-10.xlsx',\n",
       " 'file_1944-01-04.xlsx',\n",
       " 'file_1975-12-12.xlsx']"
      ]
     },
     "execution_count": 17,
     "metadata": {},
     "output_type": "execute_result"
    }
   ],
   "source": [
    "os.listdir('output')"
   ]
  },
  {
   "cell_type": "markdown",
   "metadata": {},
   "source": [
    "## Explicamos cada paso\n",
    "\n",
    "Vamos a crear un dataframe mas pequeño para entender mejor los pasos"
   ]
  },
  {
   "cell_type": "code",
   "execution_count": 19,
   "metadata": {},
   "outputs": [
    {
     "data": {
      "text/html": [
       "<div>\n",
       "<style scoped>\n",
       "    .dataframe tbody tr th:only-of-type {\n",
       "        vertical-align: middle;\n",
       "    }\n",
       "\n",
       "    .dataframe tbody tr th {\n",
       "        vertical-align: top;\n",
       "    }\n",
       "\n",
       "    .dataframe thead th {\n",
       "        text-align: right;\n",
       "    }\n",
       "</style>\n",
       "<table border=\"1\" class=\"dataframe\">\n",
       "  <thead>\n",
       "    <tr style=\"text-align: right;\">\n",
       "      <th></th>\n",
       "      <th>a</th>\n",
       "      <th>b</th>\n",
       "      <th>c</th>\n",
       "      <th>d</th>\n",
       "      <th>e</th>\n",
       "      <th>f</th>\n",
       "    </tr>\n",
       "  </thead>\n",
       "  <tbody>\n",
       "    <tr>\n",
       "      <th>0</th>\n",
       "      <td>0.903924</td>\n",
       "      <td>0.502616</td>\n",
       "      <td>0.479529</td>\n",
       "      <td>0.458375</td>\n",
       "      <td>0.010546</td>\n",
       "      <td>0.702908</td>\n",
       "    </tr>\n",
       "    <tr>\n",
       "      <th>1</th>\n",
       "      <td>0.813443</td>\n",
       "      <td>0.365414</td>\n",
       "      <td>0.751693</td>\n",
       "      <td>0.295974</td>\n",
       "      <td>0.236121</td>\n",
       "      <td>0.320756</td>\n",
       "    </tr>\n",
       "    <tr>\n",
       "      <th>2</th>\n",
       "      <td>0.691853</td>\n",
       "      <td>0.284053</td>\n",
       "      <td>0.261059</td>\n",
       "      <td>0.854738</td>\n",
       "      <td>0.392931</td>\n",
       "      <td>0.610816</td>\n",
       "    </tr>\n",
       "    <tr>\n",
       "      <th>3</th>\n",
       "      <td>0.530919</td>\n",
       "      <td>0.503741</td>\n",
       "      <td>0.215673</td>\n",
       "      <td>0.545410</td>\n",
       "      <td>0.474038</td>\n",
       "      <td>0.343720</td>\n",
       "    </tr>\n",
       "    <tr>\n",
       "      <th>4</th>\n",
       "      <td>0.252314</td>\n",
       "      <td>0.881623</td>\n",
       "      <td>0.694723</td>\n",
       "      <td>0.100367</td>\n",
       "      <td>0.427066</td>\n",
       "      <td>0.589648</td>\n",
       "    </tr>\n",
       "    <tr>\n",
       "      <th>5</th>\n",
       "      <td>0.887950</td>\n",
       "      <td>0.614652</td>\n",
       "      <td>0.976138</td>\n",
       "      <td>0.970069</td>\n",
       "      <td>0.163613</td>\n",
       "      <td>0.662565</td>\n",
       "    </tr>\n",
       "    <tr>\n",
       "      <th>6</th>\n",
       "      <td>0.809760</td>\n",
       "      <td>0.379884</td>\n",
       "      <td>0.018494</td>\n",
       "      <td>0.990659</td>\n",
       "      <td>0.535823</td>\n",
       "      <td>0.156429</td>\n",
       "    </tr>\n",
       "    <tr>\n",
       "      <th>7</th>\n",
       "      <td>0.748008</td>\n",
       "      <td>0.390855</td>\n",
       "      <td>0.389059</td>\n",
       "      <td>0.772295</td>\n",
       "      <td>0.839966</td>\n",
       "      <td>0.059791</td>\n",
       "    </tr>\n",
       "    <tr>\n",
       "      <th>8</th>\n",
       "      <td>0.634057</td>\n",
       "      <td>0.969500</td>\n",
       "      <td>0.766988</td>\n",
       "      <td>0.356578</td>\n",
       "      <td>0.935749</td>\n",
       "      <td>0.937540</td>\n",
       "    </tr>\n",
       "    <tr>\n",
       "      <th>9</th>\n",
       "      <td>0.688235</td>\n",
       "      <td>0.817827</td>\n",
       "      <td>0.489359</td>\n",
       "      <td>0.710954</td>\n",
       "      <td>0.270269</td>\n",
       "      <td>0.558462</td>\n",
       "    </tr>\n",
       "    <tr>\n",
       "      <th>10</th>\n",
       "      <td>0.157213</td>\n",
       "      <td>0.537005</td>\n",
       "      <td>0.257155</td>\n",
       "      <td>0.115297</td>\n",
       "      <td>0.956153</td>\n",
       "      <td>0.536380</td>\n",
       "    </tr>\n",
       "    <tr>\n",
       "      <th>11</th>\n",
       "      <td>0.554200</td>\n",
       "      <td>0.454199</td>\n",
       "      <td>0.765217</td>\n",
       "      <td>0.658172</td>\n",
       "      <td>0.362784</td>\n",
       "      <td>0.192097</td>\n",
       "    </tr>\n",
       "    <tr>\n",
       "      <th>12</th>\n",
       "      <td>0.382051</td>\n",
       "      <td>0.346604</td>\n",
       "      <td>0.280948</td>\n",
       "      <td>0.183672</td>\n",
       "      <td>0.939005</td>\n",
       "      <td>0.033151</td>\n",
       "    </tr>\n",
       "    <tr>\n",
       "      <th>13</th>\n",
       "      <td>0.824807</td>\n",
       "      <td>0.618935</td>\n",
       "      <td>0.444044</td>\n",
       "      <td>0.032812</td>\n",
       "      <td>0.372816</td>\n",
       "      <td>0.356902</td>\n",
       "    </tr>\n",
       "    <tr>\n",
       "      <th>14</th>\n",
       "      <td>0.507802</td>\n",
       "      <td>0.113862</td>\n",
       "      <td>0.587687</td>\n",
       "      <td>0.680879</td>\n",
       "      <td>0.033229</td>\n",
       "      <td>0.402355</td>\n",
       "    </tr>\n",
       "    <tr>\n",
       "      <th>15</th>\n",
       "      <td>0.717150</td>\n",
       "      <td>0.623810</td>\n",
       "      <td>0.804915</td>\n",
       "      <td>0.595841</td>\n",
       "      <td>0.046800</td>\n",
       "      <td>0.561043</td>\n",
       "    </tr>\n",
       "    <tr>\n",
       "      <th>16</th>\n",
       "      <td>0.108780</td>\n",
       "      <td>0.568981</td>\n",
       "      <td>0.052125</td>\n",
       "      <td>0.877228</td>\n",
       "      <td>0.999418</td>\n",
       "      <td>0.108649</td>\n",
       "    </tr>\n",
       "    <tr>\n",
       "      <th>17</th>\n",
       "      <td>0.659578</td>\n",
       "      <td>0.357640</td>\n",
       "      <td>0.686427</td>\n",
       "      <td>0.529923</td>\n",
       "      <td>0.929906</td>\n",
       "      <td>0.304573</td>\n",
       "    </tr>\n",
       "    <tr>\n",
       "      <th>18</th>\n",
       "      <td>0.059190</td>\n",
       "      <td>0.943554</td>\n",
       "      <td>0.330552</td>\n",
       "      <td>0.472950</td>\n",
       "      <td>0.138912</td>\n",
       "      <td>0.871687</td>\n",
       "    </tr>\n",
       "    <tr>\n",
       "      <th>19</th>\n",
       "      <td>0.412079</td>\n",
       "      <td>0.181364</td>\n",
       "      <td>0.384332</td>\n",
       "      <td>0.345169</td>\n",
       "      <td>0.436131</td>\n",
       "      <td>0.702110</td>\n",
       "    </tr>\n",
       "  </tbody>\n",
       "</table>\n",
       "</div>"
      ],
      "text/plain": [
       "           a         b         c         d         e         f\n",
       "0   0.903924  0.502616  0.479529  0.458375  0.010546  0.702908\n",
       "1   0.813443  0.365414  0.751693  0.295974  0.236121  0.320756\n",
       "2   0.691853  0.284053  0.261059  0.854738  0.392931  0.610816\n",
       "3   0.530919  0.503741  0.215673  0.545410  0.474038  0.343720\n",
       "4   0.252314  0.881623  0.694723  0.100367  0.427066  0.589648\n",
       "5   0.887950  0.614652  0.976138  0.970069  0.163613  0.662565\n",
       "6   0.809760  0.379884  0.018494  0.990659  0.535823  0.156429\n",
       "7   0.748008  0.390855  0.389059  0.772295  0.839966  0.059791\n",
       "8   0.634057  0.969500  0.766988  0.356578  0.935749  0.937540\n",
       "9   0.688235  0.817827  0.489359  0.710954  0.270269  0.558462\n",
       "10  0.157213  0.537005  0.257155  0.115297  0.956153  0.536380\n",
       "11  0.554200  0.454199  0.765217  0.658172  0.362784  0.192097\n",
       "12  0.382051  0.346604  0.280948  0.183672  0.939005  0.033151\n",
       "13  0.824807  0.618935  0.444044  0.032812  0.372816  0.356902\n",
       "14  0.507802  0.113862  0.587687  0.680879  0.033229  0.402355\n",
       "15  0.717150  0.623810  0.804915  0.595841  0.046800  0.561043\n",
       "16  0.108780  0.568981  0.052125  0.877228  0.999418  0.108649\n",
       "17  0.659578  0.357640  0.686427  0.529923  0.929906  0.304573\n",
       "18  0.059190  0.943554  0.330552  0.472950  0.138912  0.871687\n",
       "19  0.412079  0.181364  0.384332  0.345169  0.436131  0.702110"
      ]
     },
     "execution_count": 19,
     "metadata": {},
     "output_type": "execute_result"
    }
   ],
   "source": [
    "rows = 5\n",
    "df = pd.DataFrame(np.random.rand(20, 6), columns=list('abcdef'))\n",
    "df"
   ]
  },
  {
   "cell_type": "markdown",
   "metadata": {},
   "source": [
    "Dividimos en `rows` el dataframe. La función split nos devuelve una lista con los dataframe a partir del elemento 1."
   ]
  },
  {
   "cell_type": "code",
   "execution_count": 20,
   "metadata": {},
   "outputs": [
    {
     "data": {
      "text/plain": [
       "[Empty DataFrame\n",
       " Columns: [a, b, c, d, e, f]\n",
       " Index: [],\n",
       "           a         b         c         d         e         f\n",
       " 0  0.903924  0.502616  0.479529  0.458375  0.010546  0.702908\n",
       " 1  0.813443  0.365414  0.751693  0.295974  0.236121  0.320756\n",
       " 2  0.691853  0.284053  0.261059  0.854738  0.392931  0.610816\n",
       " 3  0.530919  0.503741  0.215673  0.545410  0.474038  0.343720\n",
       " 4  0.252314  0.881623  0.694723  0.100367  0.427066  0.589648,\n",
       "           a         b         c         d         e         f\n",
       " 5  0.887950  0.614652  0.976138  0.970069  0.163613  0.662565\n",
       " 6  0.809760  0.379884  0.018494  0.990659  0.535823  0.156429\n",
       " 7  0.748008  0.390855  0.389059  0.772295  0.839966  0.059791\n",
       " 8  0.634057  0.969500  0.766988  0.356578  0.935749  0.937540\n",
       " 9  0.688235  0.817827  0.489359  0.710954  0.270269  0.558462,\n",
       "            a         b         c         d         e         f\n",
       " 10  0.157213  0.537005  0.257155  0.115297  0.956153  0.536380\n",
       " 11  0.554200  0.454199  0.765217  0.658172  0.362784  0.192097\n",
       " 12  0.382051  0.346604  0.280948  0.183672  0.939005  0.033151\n",
       " 13  0.824807  0.618935  0.444044  0.032812  0.372816  0.356902\n",
       " 14  0.507802  0.113862  0.587687  0.680879  0.033229  0.402355,\n",
       "            a         b         c         d         e         f\n",
       " 15  0.717150  0.623810  0.804915  0.595841  0.046800  0.561043\n",
       " 16  0.108780  0.568981  0.052125  0.877228  0.999418  0.108649\n",
       " 17  0.659578  0.357640  0.686427  0.529923  0.929906  0.304573\n",
       " 18  0.059190  0.943554  0.330552  0.472950  0.138912  0.871687\n",
       " 19  0.412079  0.181364  0.384332  0.345169  0.436131  0.702110]"
      ]
     },
     "execution_count": 20,
     "metadata": {},
     "output_type": "execute_result"
    }
   ],
   "source": [
    "np.split(df, range(0,len(df),rows), axis=0)"
   ]
  },
  {
   "cell_type": "markdown",
   "metadata": {},
   "source": [
    "El elemento 0 es información sobre la división realizada. Por lo que habría que trabajar con `[1:rows]` para quitar el primer elemento."
   ]
  },
  {
   "cell_type": "code",
   "execution_count": 21,
   "metadata": {},
   "outputs": [
    {
     "data": {
      "text/plain": [
       "[          a         b         c         d         e         f\n",
       " 0  0.903924  0.502616  0.479529  0.458375  0.010546  0.702908\n",
       " 1  0.813443  0.365414  0.751693  0.295974  0.236121  0.320756\n",
       " 2  0.691853  0.284053  0.261059  0.854738  0.392931  0.610816\n",
       " 3  0.530919  0.503741  0.215673  0.545410  0.474038  0.343720\n",
       " 4  0.252314  0.881623  0.694723  0.100367  0.427066  0.589648,\n",
       "           a         b         c         d         e         f\n",
       " 5  0.887950  0.614652  0.976138  0.970069  0.163613  0.662565\n",
       " 6  0.809760  0.379884  0.018494  0.990659  0.535823  0.156429\n",
       " 7  0.748008  0.390855  0.389059  0.772295  0.839966  0.059791\n",
       " 8  0.634057  0.969500  0.766988  0.356578  0.935749  0.937540\n",
       " 9  0.688235  0.817827  0.489359  0.710954  0.270269  0.558462,\n",
       "            a         b         c         d         e         f\n",
       " 10  0.157213  0.537005  0.257155  0.115297  0.956153  0.536380\n",
       " 11  0.554200  0.454199  0.765217  0.658172  0.362784  0.192097\n",
       " 12  0.382051  0.346604  0.280948  0.183672  0.939005  0.033151\n",
       " 13  0.824807  0.618935  0.444044  0.032812  0.372816  0.356902\n",
       " 14  0.507802  0.113862  0.587687  0.680879  0.033229  0.402355,\n",
       "            a         b         c         d         e         f\n",
       " 15  0.717150  0.623810  0.804915  0.595841  0.046800  0.561043\n",
       " 16  0.108780  0.568981  0.052125  0.877228  0.999418  0.108649\n",
       " 17  0.659578  0.357640  0.686427  0.529923  0.929906  0.304573\n",
       " 18  0.059190  0.943554  0.330552  0.472950  0.138912  0.871687\n",
       " 19  0.412079  0.181364  0.384332  0.345169  0.436131  0.702110]"
      ]
     },
     "execution_count": 21,
     "metadata": {},
     "output_type": "execute_result"
    }
   ],
   "source": [
    "np.split(df, range(0,len(df),rows), axis=0)[1:rows]"
   ]
  },
  {
   "cell_type": "markdown",
   "metadata": {},
   "source": [
    "Usaremos el indice del último elemento de cada grupo para enumerar cada fichero."
   ]
  },
  {
   "cell_type": "code",
   "execution_count": 22,
   "metadata": {},
   "outputs": [
    {
     "data": {
      "text/plain": [
       "9"
      ]
     },
     "execution_count": 22,
     "metadata": {},
     "output_type": "execute_result"
    }
   ],
   "source": [
    "np.split(df, range(0,len(df),rows), axis=0)[2].index[-1]"
   ]
  },
  {
   "cell_type": "markdown",
   "metadata": {},
   "source": [
    "Como lo que obtenemos de `.split()` es una lista de DataFrame, y hay que hacerlo en una línea, vamos a usar la funcionalidad de Python para crear una lista de valores, a partir de iterar una lista:\n",
    "\n",
    "```python\n",
    "[x for x in listavalores]\n",
    "```\n",
    "\n",
    "Dónde x sería cada dataframe dividido en 2000 rows.\n",
    "\n",
    "Para obtener la fecha que le da nombre, en este caso, basta con usar el numero del indice, pero el ejemplo del enunciado, como el indice es una fecha, se usa el `.split` de `str()` para separar la fecha de la hora y coger solo la fecha."
   ]
  },
  {
   "cell_type": "code",
   "execution_count": 25,
   "metadata": {},
   "outputs": [
    {
     "data": {
      "text/plain": [
       "[None, None, None, None]"
      ]
     },
     "execution_count": 25,
     "metadata": {},
     "output_type": "execute_result"
    }
   ],
   "source": [
    "[d.to_excel('output/file_%s.xlsx'%str(d.index[-1])) for d in np.split(df, range(0,len(df),rows), axis=0)[1:rows]]"
   ]
  },
  {
   "cell_type": "markdown",
   "metadata": {},
   "source": [
    "En varias líneas, sería esto:\n",
    "```python\n",
    "for d in np.split(df, range(0,len(df),rows), axis=0)[1:rows]:\n",
    "    d.to_excel('output/file_%03i.xlsx'%(df.index.get_loc(d.index[-1])/rows))\n",
    "```"
   ]
  },
  {
   "cell_type": "code",
   "execution_count": 26,
   "metadata": {},
   "outputs": [
    {
     "data": {
      "text/plain": [
       "['file_4.xlsx', 'file_19.xlsx', 'file_14.xlsx', 'file_9.xlsx']"
      ]
     },
     "execution_count": 26,
     "metadata": {},
     "output_type": "execute_result"
    }
   ],
   "source": [
    "os.listdir('output')"
   ]
  },
  {
   "cell_type": "code",
   "execution_count": null,
   "metadata": {},
   "outputs": [],
   "source": []
  }
 ],
 "metadata": {
  "kernelspec": {
   "display_name": "Python 3",
   "language": "python",
   "name": "python3"
  },
  "language_info": {
   "codemirror_mode": {
    "name": "ipython",
    "version": 3
   },
   "file_extension": ".py",
   "mimetype": "text/x-python",
   "name": "python",
   "nbconvert_exporter": "python",
   "pygments_lexer": "ipython3",
   "version": "3.7.7"
  },
  "latex_envs": {
   "LaTeX_envs_menu_present": true,
   "autoclose": false,
   "autocomplete": true,
   "bibliofile": "biblio.bib",
   "cite_by": "apalike",
   "current_citInitial": 1,
   "eqLabelWithNumbers": true,
   "eqNumInitial": 1,
   "hotkeys": {
    "equation": "Ctrl-E",
    "itemize": "Ctrl-I"
   },
   "labels_anchors": false,
   "latex_user_defs": false,
   "report_style_numbering": false,
   "user_envs_cfg": false
  },
  "varInspector": {
   "cols": {
    "lenName": 16,
    "lenType": 16,
    "lenVar": 40
   },
   "kernels_config": {
    "python": {
     "delete_cmd_postfix": "",
     "delete_cmd_prefix": "del ",
     "library": "var_list.py",
     "varRefreshCmd": "print(var_dic_list())"
    },
    "r": {
     "delete_cmd_postfix": ") ",
     "delete_cmd_prefix": "rm(",
     "library": "var_list.r",
     "varRefreshCmd": "cat(var_dic_list()) "
    }
   },
   "types_to_exclude": [
    "module",
    "function",
    "builtin_function_or_method",
    "instance",
    "_Feature"
   ],
   "window_display": false
  }
 },
 "nbformat": 4,
 "nbformat_minor": 4
}
