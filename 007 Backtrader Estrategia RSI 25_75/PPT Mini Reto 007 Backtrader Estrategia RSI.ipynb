{
 "cells": [
  {
   "cell_type": "markdown",
   "metadata": {},
   "source": [
    "# Mini Reto 007 del grupo Python para Trading\n",
    "\n",
    "## Backtrader - Estrategia de reversión a la media RSI 25/75 \n",
    "\n",
    "\n",
    "Trás el Mini-Reto 006 continuamos con Backtrader, implementando una estrategia bien conocida que incrementa un poco su complejidad.\n",
    "\n",
    "Se trata de la estrategia RSI 25/75 publicada por Larry Connors y Cesar Álvarez en su libro “High Probability ETF Trading: 7 Professional Strategies to Improve Your ETF Trading”. \n",
    "\n",
    "Utiliza el índice de fuerza relativa RSI para medir cuando un activo se encuentra sobrevendido durante una tendencia alcista o sobrecomprado durante una tendencia bajista. Sugieren bajar el período de tiempo para el indicador RSI de su nivel habitual de 14 a 4, para aumentar significativamente el número de operaciones, con un indicador más \"nervioso\".\n",
    "\n",
    "El sistema utiliza una de media móvil simple, con un periodo de 200, para determinar la tendencia a largo plazo. \n",
    "\n",
    "En mercado con tendencia alcista, es decir precio de cierre por encima de la media de 200 días, se abre posición larga cuando el indicador RSI cae por debajo 25. Se cierra la posición cuando el RSI cruza por encima de 55. \n",
    "\n",
    "En mercado bajista, abre posición corta cuando el RSI cruza por encima 75 y cierra cuando el RSI cae por debajo 45.\n",
    "\n",
    "\n",
    "Para hacerlo más cercano a la realidad debes incorporar una comisión de 0.0035 USD por acción.\n",
    "\n",
    "Y como gestión de capital invertir el 90% del valor de la cartera en cada operación, mediante un sizer de Backtrader.\n",
    "\n",
    "\n",
    "\n",
    "Partiendo del código que hay a continuación:\n",
    "\n",
    "- 1) Diseñar la estrategia en base a los indicadores\n",
    "- 2) Configurar el entorno de backtrader\n",
    "- 3) Ejecutar el backtest con la estrategia\n",
    "- 4) Optimizar los parámetros de periodos del RSI y SMA para maximizar el ratio de Sharpe.\n",
    "- 5) Ejecutar el backtest con los parámetros obtenidos\n",
    "- 6) Analizar los resultados con Pyfolio"
   ]
  },
  {
   "cell_type": "code",
   "execution_count": null,
   "metadata": {
    "ExecuteTime": {
     "end_time": "2020-11-29T15:12:55.592613Z",
     "start_time": "2020-11-29T15:12:55.572835Z"
    }
   },
   "outputs": [],
   "source": [
    "# Importamos las librerías y configuramos la visualización\n",
    "import warnings\n",
    "warnings.filterwarnings('ignore')\n",
    "\n",
    "import yfinance as yf\n",
    "import matplotlib.pyplot as plt\n",
    "import pyfolio as pf\n",
    "import backtrader as bt\n",
    "from math import floor\n",
    "\n",
    "\n",
    "plt.rcParams['figure.figsize'] = [12, 8]\n",
    "%config InlineBackend.figure_format = 'retina'"
   ]
  },
  {
   "cell_type": "code",
   "execution_count": null,
   "metadata": {
    "ExecuteTime": {
     "end_time": "2020-11-29T18:31:45.300355Z",
     "start_time": "2020-11-29T18:31:44.926803Z"
    }
   },
   "outputs": [],
   "source": [
    "# Descargamos los datos\n",
    "\n",
    "symbol = 'AAPL'\n",
    "quotes = yf.download(symbol, start='2010-1-1', end='2020-11-25')"
   ]
  },
  {
   "cell_type": "code",
   "execution_count": null,
   "metadata": {
    "ExecuteTime": {
     "end_time": "2020-11-29T14:51:18.672538Z",
     "start_time": "2020-11-29T14:51:18.659448Z"
    }
   },
   "outputs": [],
   "source": [
    "# Clase heredada de bt.Sizer al que le pasamos el porcentaje\n",
    "# que queremos estar expuestos\n",
    "\n",
    "\n",
    "class PercentValue(bt.Sizer):\n",
    "    params = (('percent', .90),)\n",
    "\n",
    "    def _getsizing(self, comminfo, cash, data, isbuy):\n",
    "        # Calculamos la posición diviendo el porcentaje deseado\n",
    "        # del valor de la cartera entre el precio del activo\n",
    "        return \".................AQUI VA TU CODIGO...............................\""
   ]
  },
  {
   "cell_type": "code",
   "execution_count": null,
   "metadata": {
    "ExecuteTime": {
     "end_time": "2020-11-29T18:31:46.165968Z",
     "start_time": "2020-11-29T18:31:46.145422Z"
    }
   },
   "outputs": [],
   "source": [
    "# Diseñamos la estrategia de revesión a la media con RSI\n",
    "\n",
    "\n",
    "class cruceRSI_(bt.Strategy):\n",
    "    params = dict(sma_period=200,\n",
    "                  rsi_period=4)\n",
    "\n",
    "    def __init__(self):\n",
    "        \".................AQUI VA TU CODIGO...............................\"\n",
    "\n",
    "    def next(self):\n",
    "        \".................AQUI VA TU CODIGO...............................\""
   ]
  },
  {
   "cell_type": "code",
   "execution_count": null,
   "metadata": {
    "ExecuteTime": {
     "end_time": "2020-11-29T18:31:48.833674Z",
     "start_time": "2020-11-29T18:31:47.471095Z"
    }
   },
   "outputs": [],
   "source": [
    "## Definimos los parametros de la estrategia\n",
    "\n",
    "cash = 10000\n",
    "exposure=.90\n",
    "sma_period=200\n",
    "rsi_period=4\n",
    "\n",
    "## Configuramos el entorno\n",
    "\n",
    "cerebro = bt.Cerebro()\n",
    "cerebro.broker.set_cash(cash)\n",
    "\n",
    "data = bt.feeds.PandasData(dataname=quotes)\n",
    "cerebro.adddata(data)\n",
    "\n",
    "\n",
    "\".................AQUI VA TU CODIGO...............................\"\n",
    "\n",
    "\n",
    "cerebro.addanalyzer(bt.analyzers.SharpeRatio, _name='sharpe')\n",
    "\n",
    "## Ejecuta el backtesting\n",
    "\n",
    "results = cerebro.run()"
   ]
  },
  {
   "cell_type": "code",
   "execution_count": null,
   "metadata": {
    "ExecuteTime": {
     "end_time": "2020-11-29T18:31:49.228858Z",
     "start_time": "2020-11-29T18:31:48.906398Z"
    },
    "scrolled": true
   },
   "outputs": [],
   "source": [
    "# Grafica de la estrategia\n",
    "\n",
    "cerebro.plot();"
   ]
  },
  {
   "cell_type": "markdown",
   "metadata": {},
   "source": [
    "### A partir de aquí sigues solo. Toca optimizar y después analizar."
   ]
  },
  {
   "cell_type": "code",
   "execution_count": null,
   "metadata": {},
   "outputs": [],
   "source": []
  }
 ],
 "metadata": {
  "kernelspec": {
   "display_name": "Python 3",
   "language": "python",
   "name": "python3"
  },
  "language_info": {
   "codemirror_mode": {
    "name": "ipython",
    "version": 3
   },
   "file_extension": ".py",
   "mimetype": "text/x-python",
   "name": "python",
   "nbconvert_exporter": "python",
   "pygments_lexer": "ipython3",
   "version": "3.7.7"
  },
  "latex_envs": {
   "LaTeX_envs_menu_present": true,
   "autoclose": false,
   "autocomplete": true,
   "bibliofile": "biblio.bib",
   "cite_by": "apalike",
   "current_citInitial": 1,
   "eqLabelWithNumbers": true,
   "eqNumInitial": 1,
   "hotkeys": {
    "equation": "Ctrl-E",
    "itemize": "Ctrl-I"
   },
   "labels_anchors": false,
   "latex_user_defs": false,
   "report_style_numbering": false,
   "user_envs_cfg": false
  },
  "toc": {
   "base_numbering": 1,
   "nav_menu": {},
   "number_sections": true,
   "sideBar": true,
   "skip_h1_title": true,
   "title_cell": "Table of Contents",
   "title_sidebar": "Contents",
   "toc_cell": false,
   "toc_position": {},
   "toc_section_display": true,
   "toc_window_display": true
  },
  "varInspector": {
   "cols": {
    "lenName": 16,
    "lenType": 16,
    "lenVar": 40
   },
   "kernels_config": {
    "python": {
     "delete_cmd_postfix": "",
     "delete_cmd_prefix": "del ",
     "library": "var_list.py",
     "varRefreshCmd": "print(var_dic_list())"
    },
    "r": {
     "delete_cmd_postfix": ") ",
     "delete_cmd_prefix": "rm(",
     "library": "var_list.r",
     "varRefreshCmd": "cat(var_dic_list()) "
    }
   },
   "types_to_exclude": [
    "module",
    "function",
    "builtin_function_or_method",
    "instance",
    "_Feature"
   ],
   "window_display": false
  }
 },
 "nbformat": 4,
 "nbformat_minor": 4
}
