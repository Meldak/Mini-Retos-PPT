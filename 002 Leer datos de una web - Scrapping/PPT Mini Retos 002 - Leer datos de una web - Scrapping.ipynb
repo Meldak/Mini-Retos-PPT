{
 "cells": [
  {
   "cell_type": "markdown",
   "metadata": {},
   "source": [
    "# Mini Reto 002 Leer datos de una web - Scrapping\n",
    "\n",
    "## Leer datos de una web - Scrapping\n",
    "\n",
    "Leer los datos de la siguiente web. Este proceso se denomina Scrapping.\n",
    "\n",
    "URL Objetivo: https://www.allaria.com.ar/es/Opcion\n",
    "\n",
    "Elegir una de las 2 formas:\n",
    "\n",
    "#### A) Con pandas:\n",
    "\n",
    "#### B) Con beautifulsoup:\n",
    "Mas complicado, requiere saber algo de html. Este método es especialmente útil, cuando pandas no es capaz de realizarlo correctamente.\n",
    "\n",
    "\n",
    "\n"
   ]
  },
  {
   "cell_type": "markdown",
   "metadata": {},
   "source": [
    "El resultado final debe ser algo como esto:"
   ]
  },
  {
   "cell_type": "markdown",
   "metadata": {
    "ExecuteTime": {
     "end_time": "2020-10-06T08:36:33.408881Z",
     "start_time": "2020-10-06T08:36:33.285603Z"
    }
   },
   "source": [
    "![Resultado final](resultado.png)"
   ]
  },
  {
   "cell_type": "markdown",
   "metadata": {
    "ExecuteTime": {
     "end_time": "2020-10-06T08:40:04.039073Z",
     "start_time": "2020-10-06T08:40:04.029936Z"
    }
   },
   "source": [
    "y los type de las columnas tal que:\n",
    "    \n",
    "![Tipos de datos](dtypes.png)"
   ]
  },
  {
   "cell_type": "code",
   "execution_count": null,
   "metadata": {},
   "outputs": [],
   "source": []
  }
 ],
 "metadata": {
  "kernelspec": {
   "display_name": "Python 3",
   "language": "python",
   "name": "python3"
  },
  "language_info": {
   "codemirror_mode": {
    "name": "ipython",
    "version": 3
   },
   "file_extension": ".py",
   "mimetype": "text/x-python",
   "name": "python",
   "nbconvert_exporter": "python",
   "pygments_lexer": "ipython3",
   "version": "3.7.7"
  },
  "latex_envs": {
   "LaTeX_envs_menu_present": true,
   "autoclose": false,
   "autocomplete": true,
   "bibliofile": "biblio.bib",
   "cite_by": "apalike",
   "current_citInitial": 1,
   "eqLabelWithNumbers": true,
   "eqNumInitial": 1,
   "hotkeys": {
    "equation": "Ctrl-E",
    "itemize": "Ctrl-I"
   },
   "labels_anchors": false,
   "latex_user_defs": false,
   "report_style_numbering": false,
   "user_envs_cfg": false
  },
  "varInspector": {
   "cols": {
    "lenName": 16,
    "lenType": 16,
    "lenVar": 40
   },
   "kernels_config": {
    "python": {
     "delete_cmd_postfix": "",
     "delete_cmd_prefix": "del ",
     "library": "var_list.py",
     "varRefreshCmd": "print(var_dic_list())"
    },
    "r": {
     "delete_cmd_postfix": ") ",
     "delete_cmd_prefix": "rm(",
     "library": "var_list.r",
     "varRefreshCmd": "cat(var_dic_list()) "
    }
   },
   "types_to_exclude": [
    "module",
    "function",
    "builtin_function_or_method",
    "instance",
    "_Feature"
   ],
   "window_display": false
  }
 },
 "nbformat": 4,
 "nbformat_minor": 4
}
