{
 "cells": [
  {
   "cell_type": "markdown",
   "metadata": {},
   "source": [
    "# Mini Reto 004 del grupo Python para Trading\n",
    "\n",
    "# Leer precios del chart de una página\n",
    "\n",
    "Dada la siguiente URL:\n",
    "\n",
    "http://www.rava.com/empresas/perfil.php?e=Mirg\n",
    "\n",
    "![Chart Web](Chart_Web.png)\n",
    "\n",
    "#### Obtener los precios de la web\n",
    "\n",
    "Dicha web, muestra los precios de una empresa en una gráfica de velas. Analizar la página web para identificar la forma en que se solicitan los precios al servidor y manejar esos para poder cargarlos en un `DataFrame` y poder gestionarlos adecuadamente con Pandas. \n",
    "\n",
    "\n",
    "### Exportar Excel\n",
    "\n",
    "Cabe mencionar que esta URL tiene una opcion para **descargar los precios historicos** en `.CSV` con tan solo pinchar en el botón que hay bajo el cuadro de precios historicos:\n",
    "\n",
    "![Eportar Excel](Exportar_Excel.png)\n",
    "\n",
    "Que nos lleva a:\n",
    "\n",
    "http://www.rava.com/empresas/precioshistoricos.php?e=MIRG&csv=1\n",
    "\n",
    "\n",
    "**Sin embargo**, se va a usar como ejemplo para un Mini Reto dónde no la web no proporcionase la forma de exportar los datos.\n"
   ]
  },
  {
   "cell_type": "code",
   "execution_count": null,
   "metadata": {},
   "outputs": [],
   "source": []
  }
 ],
 "metadata": {
  "kernelspec": {
   "display_name": "Python 3",
   "language": "python",
   "name": "python3"
  },
  "language_info": {
   "codemirror_mode": {
    "name": "ipython",
    "version": 3
   },
   "file_extension": ".py",
   "mimetype": "text/x-python",
   "name": "python",
   "nbconvert_exporter": "python",
   "pygments_lexer": "ipython3",
   "version": "3.7.7"
  }
 },
 "nbformat": 4,
 "nbformat_minor": 4
}
