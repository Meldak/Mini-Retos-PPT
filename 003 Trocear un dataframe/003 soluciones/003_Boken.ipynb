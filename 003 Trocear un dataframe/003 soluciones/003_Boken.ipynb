{
 "cells": [
  {
   "cell_type": "markdown",
   "metadata": {},
   "source": [
    "# Mini Reto 003 del grupo Python para Trading\n",
    "\n",
    "## Guardar un dataframe por trozos en varios ficheros excel\n"
   ]
  },
  {
   "cell_type": "markdown",
   "metadata": {},
   "source": [
    "Partimos del dataframe `data` que se obtiene con el código recogido más abajo, que tiene más de 23.000 lineas.\n",
    "\n",
    "El reto consiste en conseguir **trocearlo** en varios dataframe de **2.000 lineas como máximo** y guardar cada trozo en un **archivo excel**, con un nombre que **identifique el periodo de fechas** que contiene cada fichero.\n",
    "\n",
    "### Esos si, ¡ usando **una sola linea de código** !"
   ]
  },
  {
   "cell_type": "code",
   "execution_count": 4,
   "metadata": {
    "ExecuteTime": {
     "end_time": "2020-10-09T14:42:38.669353Z",
     "start_time": "2020-10-09T14:42:37.389599Z"
    }
   },
   "outputs": [
    {
     "name": "stdout",
     "output_type": "stream",
     "text": [
      "[*********************100%***********************]  1 of 1 completed\n"
     ]
    },
    {
     "data": {
      "text/html": [
       "<div>\n",
       "<style scoped>\n",
       "    .dataframe tbody tr th:only-of-type {\n",
       "        vertical-align: middle;\n",
       "    }\n",
       "\n",
       "    .dataframe tbody tr th {\n",
       "        vertical-align: top;\n",
       "    }\n",
       "\n",
       "    .dataframe thead th {\n",
       "        text-align: right;\n",
       "    }\n",
       "</style>\n",
       "<table border=\"1\" class=\"dataframe\">\n",
       "  <thead>\n",
       "    <tr style=\"text-align: right;\">\n",
       "      <th></th>\n",
       "      <th>Open</th>\n",
       "      <th>High</th>\n",
       "      <th>Low</th>\n",
       "      <th>Close</th>\n",
       "      <th>Adj Close</th>\n",
       "      <th>Volume</th>\n",
       "    </tr>\n",
       "    <tr>\n",
       "      <th>Date</th>\n",
       "      <th></th>\n",
       "      <th></th>\n",
       "      <th></th>\n",
       "      <th></th>\n",
       "      <th></th>\n",
       "      <th></th>\n",
       "    </tr>\n",
       "  </thead>\n",
       "  <tbody>\n",
       "    <tr>\n",
       "      <th>1927-12-30</th>\n",
       "      <td>17.660000</td>\n",
       "      <td>17.660000</td>\n",
       "      <td>17.660000</td>\n",
       "      <td>17.660000</td>\n",
       "      <td>17.660000</td>\n",
       "      <td>0</td>\n",
       "    </tr>\n",
       "    <tr>\n",
       "      <th>1928-01-03</th>\n",
       "      <td>17.760000</td>\n",
       "      <td>17.760000</td>\n",
       "      <td>17.760000</td>\n",
       "      <td>17.760000</td>\n",
       "      <td>17.760000</td>\n",
       "      <td>0</td>\n",
       "    </tr>\n",
       "    <tr>\n",
       "      <th>1928-01-04</th>\n",
       "      <td>17.719999</td>\n",
       "      <td>17.719999</td>\n",
       "      <td>17.719999</td>\n",
       "      <td>17.719999</td>\n",
       "      <td>17.719999</td>\n",
       "      <td>0</td>\n",
       "    </tr>\n",
       "    <tr>\n",
       "      <th>1928-01-05</th>\n",
       "      <td>17.549999</td>\n",
       "      <td>17.549999</td>\n",
       "      <td>17.549999</td>\n",
       "      <td>17.549999</td>\n",
       "      <td>17.549999</td>\n",
       "      <td>0</td>\n",
       "    </tr>\n",
       "    <tr>\n",
       "      <th>1928-01-06</th>\n",
       "      <td>17.660000</td>\n",
       "      <td>17.660000</td>\n",
       "      <td>17.660000</td>\n",
       "      <td>17.660000</td>\n",
       "      <td>17.660000</td>\n",
       "      <td>0</td>\n",
       "    </tr>\n",
       "    <tr>\n",
       "      <th>...</th>\n",
       "      <td>...</td>\n",
       "      <td>...</td>\n",
       "      <td>...</td>\n",
       "      <td>...</td>\n",
       "      <td>...</td>\n",
       "      <td>...</td>\n",
       "    </tr>\n",
       "    <tr>\n",
       "      <th>2020-10-07</th>\n",
       "      <td>3384.560059</td>\n",
       "      <td>3426.260010</td>\n",
       "      <td>3384.560059</td>\n",
       "      <td>3419.439941</td>\n",
       "      <td>3419.439941</td>\n",
       "      <td>3807830000</td>\n",
       "    </tr>\n",
       "    <tr>\n",
       "      <th>2020-10-08</th>\n",
       "      <td>3434.280029</td>\n",
       "      <td>3447.280029</td>\n",
       "      <td>3428.149902</td>\n",
       "      <td>3446.830078</td>\n",
       "      <td>3446.830078</td>\n",
       "      <td>3856190000</td>\n",
       "    </tr>\n",
       "    <tr>\n",
       "      <th>2020-10-09</th>\n",
       "      <td>3459.669922</td>\n",
       "      <td>3482.340088</td>\n",
       "      <td>3458.070068</td>\n",
       "      <td>3477.139893</td>\n",
       "      <td>3477.139893</td>\n",
       "      <td>3939060000</td>\n",
       "    </tr>\n",
       "    <tr>\n",
       "      <th>2020-10-12</th>\n",
       "      <td>3500.020020</td>\n",
       "      <td>3549.850098</td>\n",
       "      <td>3499.610107</td>\n",
       "      <td>3534.219971</td>\n",
       "      <td>3534.219971</td>\n",
       "      <td>3428970000</td>\n",
       "    </tr>\n",
       "    <tr>\n",
       "      <th>2020-10-13</th>\n",
       "      <td>3534.010010</td>\n",
       "      <td>3534.010010</td>\n",
       "      <td>3500.860107</td>\n",
       "      <td>3511.929932</td>\n",
       "      <td>3511.929932</td>\n",
       "      <td>2357875709</td>\n",
       "    </tr>\n",
       "  </tbody>\n",
       "</table>\n",
       "<p>23307 rows × 6 columns</p>\n",
       "</div>"
      ],
      "text/plain": [
       "                   Open         High          Low        Close    Adj Close  \\\n",
       "Date                                                                          \n",
       "1927-12-30    17.660000    17.660000    17.660000    17.660000    17.660000   \n",
       "1928-01-03    17.760000    17.760000    17.760000    17.760000    17.760000   \n",
       "1928-01-04    17.719999    17.719999    17.719999    17.719999    17.719999   \n",
       "1928-01-05    17.549999    17.549999    17.549999    17.549999    17.549999   \n",
       "1928-01-06    17.660000    17.660000    17.660000    17.660000    17.660000   \n",
       "...                 ...          ...          ...          ...          ...   \n",
       "2020-10-07  3384.560059  3426.260010  3384.560059  3419.439941  3419.439941   \n",
       "2020-10-08  3434.280029  3447.280029  3428.149902  3446.830078  3446.830078   \n",
       "2020-10-09  3459.669922  3482.340088  3458.070068  3477.139893  3477.139893   \n",
       "2020-10-12  3500.020020  3549.850098  3499.610107  3534.219971  3534.219971   \n",
       "2020-10-13  3534.010010  3534.010010  3500.860107  3511.929932  3511.929932   \n",
       "\n",
       "                Volume  \n",
       "Date                    \n",
       "1927-12-30           0  \n",
       "1928-01-03           0  \n",
       "1928-01-04           0  \n",
       "1928-01-05           0  \n",
       "1928-01-06           0  \n",
       "...                ...  \n",
       "2020-10-07  3807830000  \n",
       "2020-10-08  3856190000  \n",
       "2020-10-09  3939060000  \n",
       "2020-10-12  3428970000  \n",
       "2020-10-13  2357875709  \n",
       "\n",
       "[23307 rows x 6 columns]"
      ]
     },
     "execution_count": 4,
     "metadata": {},
     "output_type": "execute_result"
    }
   ],
   "source": [
    "import yfinance as yf\n",
    "\n",
    "data = yf.download(\"^GSPC\")\n",
    "data"
   ]
  },
  {
   "cell_type": "markdown",
   "metadata": {},
   "source": [
    "## Solución propuesta."
   ]
  },
  {
   "cell_type": "code",
   "execution_count": 1,
   "metadata": {},
   "outputs": [],
   "source": [
    "import pandas as pd\n",
    "import numpy as np\n",
    "import os"
   ]
  },
  {
   "cell_type": "markdown",
   "metadata": {},
   "source": [
    "Creamos la carpeta que contendrá los ficheros de salida y fijamos el número rows por fichero"
   ]
  },
  {
   "cell_type": "code",
   "execution_count": 2,
   "metadata": {},
   "outputs": [],
   "source": [
    "os.mkdir('output')\n",
    "rows = 2000"
   ]
  },
  {
   "cell_type": "code",
   "execution_count": 5,
   "metadata": {},
   "outputs": [
    {
     "data": {
      "text/plain": [
       "[None, None, None, None, None, None, None, None, None, None, None, None]"
      ]
     },
     "execution_count": 5,
     "metadata": {},
     "output_type": "execute_result"
    }
   ],
   "source": [
    "[d.to_excel('output/file_%03i.xlsx'%(data.index.get_loc(d.index[-1])/rows)) for d in np.split(data, range(0,len(data),rows), axis=0)[1:rows]]"
   ]
  },
  {
   "cell_type": "code",
   "execution_count": 7,
   "metadata": {},
   "outputs": [
    {
     "data": {
      "text/plain": [
       "['file_010.xlsx',\n",
       " 'file_005.xlsx',\n",
       " 'file_009.xlsx',\n",
       " 'file_003.xlsx',\n",
       " 'file_011.xlsx',\n",
       " 'file_001.xlsx',\n",
       " 'file_008.xlsx',\n",
       " 'file_000.xlsx',\n",
       " 'file_002.xlsx',\n",
       " 'file_004.xlsx',\n",
       " 'file_006.xlsx',\n",
       " 'file_007.xlsx']"
      ]
     },
     "execution_count": 7,
     "metadata": {},
     "output_type": "execute_result"
    }
   ],
   "source": [
    "os.listdir('output')"
   ]
  },
  {
   "cell_type": "markdown",
   "metadata": {},
   "source": [
    "## Explicamos cada paso\n",
    "\n",
    "Vamos a crear un dataframe mas pequeño para entender mejor los pasos"
   ]
  },
  {
   "cell_type": "code",
   "execution_count": 93,
   "metadata": {},
   "outputs": [
    {
     "data": {
      "text/html": [
       "<div>\n",
       "<style scoped>\n",
       "    .dataframe tbody tr th:only-of-type {\n",
       "        vertical-align: middle;\n",
       "    }\n",
       "\n",
       "    .dataframe tbody tr th {\n",
       "        vertical-align: top;\n",
       "    }\n",
       "\n",
       "    .dataframe thead th {\n",
       "        text-align: right;\n",
       "    }\n",
       "</style>\n",
       "<table border=\"1\" class=\"dataframe\">\n",
       "  <thead>\n",
       "    <tr style=\"text-align: right;\">\n",
       "      <th></th>\n",
       "      <th>a</th>\n",
       "      <th>b</th>\n",
       "      <th>c</th>\n",
       "      <th>d</th>\n",
       "      <th>e</th>\n",
       "      <th>f</th>\n",
       "    </tr>\n",
       "  </thead>\n",
       "  <tbody>\n",
       "    <tr>\n",
       "      <th>0</th>\n",
       "      <td>0.284263</td>\n",
       "      <td>0.733329</td>\n",
       "      <td>0.587485</td>\n",
       "      <td>0.203228</td>\n",
       "      <td>0.661512</td>\n",
       "      <td>0.290166</td>\n",
       "    </tr>\n",
       "    <tr>\n",
       "      <th>1</th>\n",
       "      <td>0.911779</td>\n",
       "      <td>0.322007</td>\n",
       "      <td>0.921876</td>\n",
       "      <td>0.119630</td>\n",
       "      <td>0.204113</td>\n",
       "      <td>0.878597</td>\n",
       "    </tr>\n",
       "    <tr>\n",
       "      <th>2</th>\n",
       "      <td>0.284739</td>\n",
       "      <td>0.246404</td>\n",
       "      <td>0.084297</td>\n",
       "      <td>0.710639</td>\n",
       "      <td>0.422911</td>\n",
       "      <td>0.207464</td>\n",
       "    </tr>\n",
       "    <tr>\n",
       "      <th>3</th>\n",
       "      <td>0.458969</td>\n",
       "      <td>0.779905</td>\n",
       "      <td>0.941474</td>\n",
       "      <td>0.219769</td>\n",
       "      <td>0.780959</td>\n",
       "      <td>0.151404</td>\n",
       "    </tr>\n",
       "    <tr>\n",
       "      <th>4</th>\n",
       "      <td>0.409226</td>\n",
       "      <td>0.260293</td>\n",
       "      <td>0.730312</td>\n",
       "      <td>0.359406</td>\n",
       "      <td>0.649133</td>\n",
       "      <td>0.590322</td>\n",
       "    </tr>\n",
       "    <tr>\n",
       "      <th>5</th>\n",
       "      <td>0.453101</td>\n",
       "      <td>0.377299</td>\n",
       "      <td>0.934548</td>\n",
       "      <td>0.171726</td>\n",
       "      <td>0.848146</td>\n",
       "      <td>0.608347</td>\n",
       "    </tr>\n",
       "    <tr>\n",
       "      <th>6</th>\n",
       "      <td>0.177736</td>\n",
       "      <td>0.956729</td>\n",
       "      <td>0.289489</td>\n",
       "      <td>0.090274</td>\n",
       "      <td>0.846530</td>\n",
       "      <td>0.330139</td>\n",
       "    </tr>\n",
       "    <tr>\n",
       "      <th>7</th>\n",
       "      <td>0.308548</td>\n",
       "      <td>0.339217</td>\n",
       "      <td>0.899279</td>\n",
       "      <td>0.060093</td>\n",
       "      <td>0.970809</td>\n",
       "      <td>0.930146</td>\n",
       "    </tr>\n",
       "    <tr>\n",
       "      <th>8</th>\n",
       "      <td>0.049664</td>\n",
       "      <td>0.177715</td>\n",
       "      <td>0.199053</td>\n",
       "      <td>0.373955</td>\n",
       "      <td>0.400834</td>\n",
       "      <td>0.114931</td>\n",
       "    </tr>\n",
       "    <tr>\n",
       "      <th>9</th>\n",
       "      <td>0.750845</td>\n",
       "      <td>0.463485</td>\n",
       "      <td>0.804371</td>\n",
       "      <td>0.658249</td>\n",
       "      <td>0.390435</td>\n",
       "      <td>0.399792</td>\n",
       "    </tr>\n",
       "    <tr>\n",
       "      <th>10</th>\n",
       "      <td>0.304285</td>\n",
       "      <td>0.288588</td>\n",
       "      <td>0.547375</td>\n",
       "      <td>0.105621</td>\n",
       "      <td>0.299820</td>\n",
       "      <td>0.428585</td>\n",
       "    </tr>\n",
       "    <tr>\n",
       "      <th>11</th>\n",
       "      <td>0.205498</td>\n",
       "      <td>0.069995</td>\n",
       "      <td>0.385421</td>\n",
       "      <td>0.095242</td>\n",
       "      <td>0.433080</td>\n",
       "      <td>0.081561</td>\n",
       "    </tr>\n",
       "    <tr>\n",
       "      <th>12</th>\n",
       "      <td>0.196677</td>\n",
       "      <td>0.721623</td>\n",
       "      <td>0.299313</td>\n",
       "      <td>0.393078</td>\n",
       "      <td>0.003629</td>\n",
       "      <td>0.128465</td>\n",
       "    </tr>\n",
       "    <tr>\n",
       "      <th>13</th>\n",
       "      <td>0.569503</td>\n",
       "      <td>0.850744</td>\n",
       "      <td>0.305078</td>\n",
       "      <td>0.927216</td>\n",
       "      <td>0.764671</td>\n",
       "      <td>0.067117</td>\n",
       "    </tr>\n",
       "    <tr>\n",
       "      <th>14</th>\n",
       "      <td>0.741881</td>\n",
       "      <td>0.797862</td>\n",
       "      <td>0.396324</td>\n",
       "      <td>0.631559</td>\n",
       "      <td>0.442207</td>\n",
       "      <td>0.357166</td>\n",
       "    </tr>\n",
       "    <tr>\n",
       "      <th>15</th>\n",
       "      <td>0.748026</td>\n",
       "      <td>0.590729</td>\n",
       "      <td>0.567114</td>\n",
       "      <td>0.112763</td>\n",
       "      <td>0.373208</td>\n",
       "      <td>0.628014</td>\n",
       "    </tr>\n",
       "    <tr>\n",
       "      <th>16</th>\n",
       "      <td>0.921879</td>\n",
       "      <td>0.582020</td>\n",
       "      <td>0.161288</td>\n",
       "      <td>0.705568</td>\n",
       "      <td>0.227121</td>\n",
       "      <td>0.109334</td>\n",
       "    </tr>\n",
       "    <tr>\n",
       "      <th>17</th>\n",
       "      <td>0.983765</td>\n",
       "      <td>0.674793</td>\n",
       "      <td>0.148739</td>\n",
       "      <td>0.628123</td>\n",
       "      <td>0.695492</td>\n",
       "      <td>0.074369</td>\n",
       "    </tr>\n",
       "    <tr>\n",
       "      <th>18</th>\n",
       "      <td>0.816935</td>\n",
       "      <td>0.464665</td>\n",
       "      <td>0.683743</td>\n",
       "      <td>0.274869</td>\n",
       "      <td>0.261958</td>\n",
       "      <td>0.002529</td>\n",
       "    </tr>\n",
       "    <tr>\n",
       "      <th>19</th>\n",
       "      <td>0.976999</td>\n",
       "      <td>0.113511</td>\n",
       "      <td>0.436695</td>\n",
       "      <td>0.542596</td>\n",
       "      <td>0.607976</td>\n",
       "      <td>0.267878</td>\n",
       "    </tr>\n",
       "  </tbody>\n",
       "</table>\n",
       "</div>"
      ],
      "text/plain": [
       "           a         b         c         d         e         f\n",
       "0   0.284263  0.733329  0.587485  0.203228  0.661512  0.290166\n",
       "1   0.911779  0.322007  0.921876  0.119630  0.204113  0.878597\n",
       "2   0.284739  0.246404  0.084297  0.710639  0.422911  0.207464\n",
       "3   0.458969  0.779905  0.941474  0.219769  0.780959  0.151404\n",
       "4   0.409226  0.260293  0.730312  0.359406  0.649133  0.590322\n",
       "5   0.453101  0.377299  0.934548  0.171726  0.848146  0.608347\n",
       "6   0.177736  0.956729  0.289489  0.090274  0.846530  0.330139\n",
       "7   0.308548  0.339217  0.899279  0.060093  0.970809  0.930146\n",
       "8   0.049664  0.177715  0.199053  0.373955  0.400834  0.114931\n",
       "9   0.750845  0.463485  0.804371  0.658249  0.390435  0.399792\n",
       "10  0.304285  0.288588  0.547375  0.105621  0.299820  0.428585\n",
       "11  0.205498  0.069995  0.385421  0.095242  0.433080  0.081561\n",
       "12  0.196677  0.721623  0.299313  0.393078  0.003629  0.128465\n",
       "13  0.569503  0.850744  0.305078  0.927216  0.764671  0.067117\n",
       "14  0.741881  0.797862  0.396324  0.631559  0.442207  0.357166\n",
       "15  0.748026  0.590729  0.567114  0.112763  0.373208  0.628014\n",
       "16  0.921879  0.582020  0.161288  0.705568  0.227121  0.109334\n",
       "17  0.983765  0.674793  0.148739  0.628123  0.695492  0.074369\n",
       "18  0.816935  0.464665  0.683743  0.274869  0.261958  0.002529\n",
       "19  0.976999  0.113511  0.436695  0.542596  0.607976  0.267878"
      ]
     },
     "execution_count": 93,
     "metadata": {},
     "output_type": "execute_result"
    }
   ],
   "source": [
    "rows = 5\n",
    "df = pd.DataFrame(np.random.rand(20, 6), columns=list('abcdef'))\n",
    "df"
   ]
  },
  {
   "cell_type": "markdown",
   "metadata": {},
   "source": [
    "Dividimos en `rows` el dataframe. La función split nos devuelve una lista con los dataframe a partir del elemento 1."
   ]
  },
  {
   "cell_type": "code",
   "execution_count": 94,
   "metadata": {},
   "outputs": [
    {
     "data": {
      "text/plain": [
       "[Empty DataFrame\n",
       " Columns: [a, b, c, d, e, f]\n",
       " Index: [],\n",
       "           a         b         c         d         e         f\n",
       " 0  0.284263  0.733329  0.587485  0.203228  0.661512  0.290166\n",
       " 1  0.911779  0.322007  0.921876  0.119630  0.204113  0.878597\n",
       " 2  0.284739  0.246404  0.084297  0.710639  0.422911  0.207464\n",
       " 3  0.458969  0.779905  0.941474  0.219769  0.780959  0.151404\n",
       " 4  0.409226  0.260293  0.730312  0.359406  0.649133  0.590322,\n",
       "           a         b         c         d         e         f\n",
       " 5  0.453101  0.377299  0.934548  0.171726  0.848146  0.608347\n",
       " 6  0.177736  0.956729  0.289489  0.090274  0.846530  0.330139\n",
       " 7  0.308548  0.339217  0.899279  0.060093  0.970809  0.930146\n",
       " 8  0.049664  0.177715  0.199053  0.373955  0.400834  0.114931\n",
       " 9  0.750845  0.463485  0.804371  0.658249  0.390435  0.399792,\n",
       "            a         b         c         d         e         f\n",
       " 10  0.304285  0.288588  0.547375  0.105621  0.299820  0.428585\n",
       " 11  0.205498  0.069995  0.385421  0.095242  0.433080  0.081561\n",
       " 12  0.196677  0.721623  0.299313  0.393078  0.003629  0.128465\n",
       " 13  0.569503  0.850744  0.305078  0.927216  0.764671  0.067117\n",
       " 14  0.741881  0.797862  0.396324  0.631559  0.442207  0.357166,\n",
       "            a         b         c         d         e         f\n",
       " 15  0.748026  0.590729  0.567114  0.112763  0.373208  0.628014\n",
       " 16  0.921879  0.582020  0.161288  0.705568  0.227121  0.109334\n",
       " 17  0.983765  0.674793  0.148739  0.628123  0.695492  0.074369\n",
       " 18  0.816935  0.464665  0.683743  0.274869  0.261958  0.002529\n",
       " 19  0.976999  0.113511  0.436695  0.542596  0.607976  0.267878]"
      ]
     },
     "execution_count": 94,
     "metadata": {},
     "output_type": "execute_result"
    }
   ],
   "source": [
    "np.split(df, range(0,len(df),rows), axis=0)"
   ]
  },
  {
   "cell_type": "markdown",
   "metadata": {},
   "source": [
    "El elemento 0 es información sobre la división realizada. Por lo que habría que trabajar con `[1:rows]` para quitar el primer elemento."
   ]
  },
  {
   "cell_type": "code",
   "execution_count": 95,
   "metadata": {},
   "outputs": [
    {
     "data": {
      "text/plain": [
       "[          a         b         c         d         e         f\n",
       " 0  0.284263  0.733329  0.587485  0.203228  0.661512  0.290166\n",
       " 1  0.911779  0.322007  0.921876  0.119630  0.204113  0.878597\n",
       " 2  0.284739  0.246404  0.084297  0.710639  0.422911  0.207464\n",
       " 3  0.458969  0.779905  0.941474  0.219769  0.780959  0.151404\n",
       " 4  0.409226  0.260293  0.730312  0.359406  0.649133  0.590322,\n",
       "           a         b         c         d         e         f\n",
       " 5  0.453101  0.377299  0.934548  0.171726  0.848146  0.608347\n",
       " 6  0.177736  0.956729  0.289489  0.090274  0.846530  0.330139\n",
       " 7  0.308548  0.339217  0.899279  0.060093  0.970809  0.930146\n",
       " 8  0.049664  0.177715  0.199053  0.373955  0.400834  0.114931\n",
       " 9  0.750845  0.463485  0.804371  0.658249  0.390435  0.399792,\n",
       "            a         b         c         d         e         f\n",
       " 10  0.304285  0.288588  0.547375  0.105621  0.299820  0.428585\n",
       " 11  0.205498  0.069995  0.385421  0.095242  0.433080  0.081561\n",
       " 12  0.196677  0.721623  0.299313  0.393078  0.003629  0.128465\n",
       " 13  0.569503  0.850744  0.305078  0.927216  0.764671  0.067117\n",
       " 14  0.741881  0.797862  0.396324  0.631559  0.442207  0.357166,\n",
       "            a         b         c         d         e         f\n",
       " 15  0.748026  0.590729  0.567114  0.112763  0.373208  0.628014\n",
       " 16  0.921879  0.582020  0.161288  0.705568  0.227121  0.109334\n",
       " 17  0.983765  0.674793  0.148739  0.628123  0.695492  0.074369\n",
       " 18  0.816935  0.464665  0.683743  0.274869  0.261958  0.002529\n",
       " 19  0.976999  0.113511  0.436695  0.542596  0.607976  0.267878]"
      ]
     },
     "execution_count": 95,
     "metadata": {},
     "output_type": "execute_result"
    }
   ],
   "source": [
    "np.split(df, range(0,len(df),rows), axis=0)[1:rows]"
   ]
  },
  {
   "cell_type": "markdown",
   "metadata": {},
   "source": [
    "Usaremos el indice del último elemento de cada grupo para enumerar cada fichero."
   ]
  },
  {
   "cell_type": "code",
   "execution_count": 96,
   "metadata": {},
   "outputs": [
    {
     "data": {
      "text/plain": [
       "9"
      ]
     },
     "execution_count": 96,
     "metadata": {},
     "output_type": "execute_result"
    }
   ],
   "source": [
    "np.split(df, range(0,len(df),rows), axis=0)[2].index[-1]"
   ]
  },
  {
   "cell_type": "markdown",
   "metadata": {},
   "source": [
    "Como lo que obtenemos de `.split()` es una lista de DataFrame, y hay que hacerlo en una línea, vamos a usar la funcionalidad de Python para crear una lista de valores, a partir de iterar una lista:\n",
    "\n",
    "```python\n",
    "[x for x in listavalores]\n",
    "```\n",
    "\n",
    "Dónde x sería cada dataframe dividido en 2000 rows.\n",
    "\n",
    "Para obtener el numero que le da nombre, hacemos una simple operación que divide el numero del ultimo elemento, entre `rows`. Para saber que lugar ocupa, usamos `.get_loc` que dado un indice, te dice que lugar ocupa del DataFrame inicial."
   ]
  },
  {
   "cell_type": "code",
   "execution_count": 97,
   "metadata": {},
   "outputs": [
    {
     "data": {
      "text/plain": [
       "[None, None, None, None]"
      ]
     },
     "execution_count": 97,
     "metadata": {},
     "output_type": "execute_result"
    }
   ],
   "source": [
    "[d.to_excel('output/file_%03i.xlsx'%(df.index.get_loc(d.index[-1])/rows)) for d in np.split(df, range(0,len(df),rows), axis=0)[1:rows]]"
   ]
  },
  {
   "cell_type": "markdown",
   "metadata": {},
   "source": [
    "En varias líneas, sería esto:\n",
    "```python\n",
    "for d in np.split(df, range(0,len(df),rows), axis=0)[1:rows]:\n",
    "    d.to_excel('output/file_%03i.xlsx'%(df.index.get_loc(d.index[-1])/rows))\n",
    "```"
   ]
  },
  {
   "cell_type": "code",
   "execution_count": null,
   "metadata": {},
   "outputs": [],
   "source": []
  }
 ],
 "metadata": {
  "kernelspec": {
   "display_name": "Python 3",
   "language": "python",
   "name": "python3"
  },
  "language_info": {
   "codemirror_mode": {
    "name": "ipython",
    "version": 3
   },
   "file_extension": ".py",
   "mimetype": "text/x-python",
   "name": "python",
   "nbconvert_exporter": "python",
   "pygments_lexer": "ipython3",
   "version": "3.7.7"
  },
  "latex_envs": {
   "LaTeX_envs_menu_present": true,
   "autoclose": false,
   "autocomplete": true,
   "bibliofile": "biblio.bib",
   "cite_by": "apalike",
   "current_citInitial": 1,
   "eqLabelWithNumbers": true,
   "eqNumInitial": 1,
   "hotkeys": {
    "equation": "Ctrl-E",
    "itemize": "Ctrl-I"
   },
   "labels_anchors": false,
   "latex_user_defs": false,
   "report_style_numbering": false,
   "user_envs_cfg": false
  },
  "varInspector": {
   "cols": {
    "lenName": 16,
    "lenType": 16,
    "lenVar": 40
   },
   "kernels_config": {
    "python": {
     "delete_cmd_postfix": "",
     "delete_cmd_prefix": "del ",
     "library": "var_list.py",
     "varRefreshCmd": "print(var_dic_list())"
    },
    "r": {
     "delete_cmd_postfix": ") ",
     "delete_cmd_prefix": "rm(",
     "library": "var_list.r",
     "varRefreshCmd": "cat(var_dic_list()) "
    }
   },
   "types_to_exclude": [
    "module",
    "function",
    "builtin_function_or_method",
    "instance",
    "_Feature"
   ],
   "window_display": false
  }
 },
 "nbformat": 4,
 "nbformat_minor": 4
}
